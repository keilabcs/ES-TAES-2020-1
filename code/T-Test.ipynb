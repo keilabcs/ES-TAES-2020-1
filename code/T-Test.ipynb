{
  "nbformat": 4,
  "nbformat_minor": 0,
  "metadata": {
    "colab": {
      "name": "Mann-Whitney.ipynb",
      "provenance": [],
      "collapsed_sections": [],
      "authorship_tag": "ABX9TyO8WZGhtK1SgJ3Rgky5dd9Q",
      "include_colab_link": true
    },
    "kernelspec": {
      "name": "python3",
      "display_name": "Python 3"
    }
  },
  "cells": [
    {
      "cell_type": "markdown",
      "metadata": {
        "id": "view-in-github",
        "colab_type": "text"
      },
      "source": [
        "<a href=\"https://colab.research.google.com/github/keilabcs/ES-TAES-2020-1/blob/master/T-Test.ipynb\" target=\"_parent\"><img src=\"https://colab.research.google.com/assets/colab-badge.svg\" alt=\"Open In Colab\"/></a>"
      ]
    },
    {
      "cell_type": "markdown",
      "metadata": {
        "id": "QQmaXB2lL94-",
        "colab_type": "text"
      },
      "source": [
        "###Universidade Federal de Pernambuco\n",
        "#### Pós-Graduação em Ciências da Computação - Cin/UFPE\n",
        "\n",
        "Discentes\n",
        "\n",
        "*   Keila Barbosa\n",
        "*   Denini Gabriel\n",
        "*   Irvin Bezerra\n",
        "\n",
        "------------------------------------------------------------------\n",
        "\n",
        "### Teste de normalidade dos dados\n",
        "\n",
        "Um ponto de decisão importante ao trabalhar com uma amostra de dados é usar métodos estatísticos paramétricos ou não paramétricos.\n",
        "\n",
        "Os métodos estatísticos paramétricos assumem que os dados têm uma distribuição conhecida e específica, geralmente uma distribuição Gaussiana. Se uma amostra de dados não for gaussiana, as suposições dos testes estatísticos paramétricos são violadas e métodos estatísticos não paramétricos devem ser usados.\n",
        "\n",
        "Existem várias técnicas que você pode usar para verificar se sua amostra de dados se desvia de uma distribuição gaussiana, chamados de testes de normalidade.\n",
        "\n",
        "Verificar se a amostra de dados é gaussiana ou suficientemente semelhante a gaussiana para usar as técnicas padrão, ou suficientemente não gaussiana para usar métodos estatísticos não paramétricos.\n",
        "\n",
        "https://www.inf.ufsc.br/~andre.zibetti/probabilidade/normal.html"
      ]
    },
    {
      "cell_type": "code",
      "metadata": {
        "id": "ZqbttYzkLewG",
        "colab_type": "code",
        "colab": {}
      },
      "source": [
        "If Data Is Gaussian:\n",
        "\tUse Parametric Statistical Methods\n",
        "Else:\n",
        "\tUse Nonparametric Statistical Methods"
      ],
      "execution_count": null,
      "outputs": []
    },
    {
      "cell_type": "markdown",
      "metadata": {
        "id": "31QiUS2r6wwD",
        "colab_type": "text"
      },
      "source": [
        "Importando os módulos"
      ]
    },
    {
      "cell_type": "code",
      "metadata": {
        "id": "bZDOaXJA6xPL",
        "colab_type": "code",
        "colab": {
          "base_uri": "https://localhost:8080/",
          "height": 71
        },
        "outputId": "94918c51-a04f-4665-de64-12ad5e301fd8"
      },
      "source": [
        "from numpy.random import randn\n",
        "from numpy import mean\n",
        "from numpy import std\n",
        "import csv, sys\n",
        "from matplotlib import pyplot\n",
        "import glob\n",
        "from google.colab import files\n",
        "import pandas as pd\n",
        "import matplotlib.pyplot as plt\n",
        "from matplotlib.patches import Rectangle\n",
        "import seaborn as sns\n",
        "from statsmodels.graphics.gofplots import qqplot"
      ],
      "execution_count": 2,
      "outputs": [
        {
          "output_type": "stream",
          "text": [
            "/usr/local/lib/python3.6/dist-packages/statsmodels/tools/_testing.py:19: FutureWarning: pandas.util.testing is deprecated. Use the functions in the public API at pandas.testing instead.\n",
            "  import pandas.util.testing as tm\n"
          ],
          "name": "stderr"
        }
      ]
    },
    {
      "cell_type": "markdown",
      "metadata": {
        "id": "KZ4fI9mR7EJs",
        "colab_type": "text"
      },
      "source": [
        "Leia o csv"
      ]
    },
    {
      "cell_type": "code",
      "metadata": {
        "id": "2Y4O3EZY6UCC",
        "colab_type": "code",
        "colab": {
          "resources": {
            "http://localhost:8080/nbextensions/google.colab/files.js": {
              "data": "Ly8gQ29weXJpZ2h0IDIwMTcgR29vZ2xlIExMQwovLwovLyBMaWNlbnNlZCB1bmRlciB0aGUgQXBhY2hlIExpY2Vuc2UsIFZlcnNpb24gMi4wICh0aGUgIkxpY2Vuc2UiKTsKLy8geW91IG1heSBub3QgdXNlIHRoaXMgZmlsZSBleGNlcHQgaW4gY29tcGxpYW5jZSB3aXRoIHRoZSBMaWNlbnNlLgovLyBZb3UgbWF5IG9idGFpbiBhIGNvcHkgb2YgdGhlIExpY2Vuc2UgYXQKLy8KLy8gICAgICBodHRwOi8vd3d3LmFwYWNoZS5vcmcvbGljZW5zZXMvTElDRU5TRS0yLjAKLy8KLy8gVW5sZXNzIHJlcXVpcmVkIGJ5IGFwcGxpY2FibGUgbGF3IG9yIGFncmVlZCB0byBpbiB3cml0aW5nLCBzb2Z0d2FyZQovLyBkaXN0cmlidXRlZCB1bmRlciB0aGUgTGljZW5zZSBpcyBkaXN0cmlidXRlZCBvbiBhbiAiQVMgSVMiIEJBU0lTLAovLyBXSVRIT1VUIFdBUlJBTlRJRVMgT1IgQ09ORElUSU9OUyBPRiBBTlkgS0lORCwgZWl0aGVyIGV4cHJlc3Mgb3IgaW1wbGllZC4KLy8gU2VlIHRoZSBMaWNlbnNlIGZvciB0aGUgc3BlY2lmaWMgbGFuZ3VhZ2UgZ292ZXJuaW5nIHBlcm1pc3Npb25zIGFuZAovLyBsaW1pdGF0aW9ucyB1bmRlciB0aGUgTGljZW5zZS4KCi8qKgogKiBAZmlsZW92ZXJ2aWV3IEhlbHBlcnMgZm9yIGdvb2dsZS5jb2xhYiBQeXRob24gbW9kdWxlLgogKi8KKGZ1bmN0aW9uKHNjb3BlKSB7CmZ1bmN0aW9uIHNwYW4odGV4dCwgc3R5bGVBdHRyaWJ1dGVzID0ge30pIHsKICBjb25zdCBlbGVtZW50ID0gZG9jdW1lbnQuY3JlYXRlRWxlbWVudCgnc3BhbicpOwogIGVsZW1lbnQudGV4dENvbnRlbnQgPSB0ZXh0OwogIGZvciAoY29uc3Qga2V5IG9mIE9iamVjdC5rZXlzKHN0eWxlQXR0cmlidXRlcykpIHsKICAgIGVsZW1lbnQuc3R5bGVba2V5XSA9IHN0eWxlQXR0cmlidXRlc1trZXldOwogIH0KICByZXR1cm4gZWxlbWVudDsKfQoKLy8gTWF4IG51bWJlciBvZiBieXRlcyB3aGljaCB3aWxsIGJlIHVwbG9hZGVkIGF0IGEgdGltZS4KY29uc3QgTUFYX1BBWUxPQURfU0laRSA9IDEwMCAqIDEwMjQ7CgpmdW5jdGlvbiBfdXBsb2FkRmlsZXMoaW5wdXRJZCwgb3V0cHV0SWQpIHsKICBjb25zdCBzdGVwcyA9IHVwbG9hZEZpbGVzU3RlcChpbnB1dElkLCBvdXRwdXRJZCk7CiAgY29uc3Qgb3V0cHV0RWxlbWVudCA9IGRvY3VtZW50LmdldEVsZW1lbnRCeUlkKG91dHB1dElkKTsKICAvLyBDYWNoZSBzdGVwcyBvbiB0aGUgb3V0cHV0RWxlbWVudCB0byBtYWtlIGl0IGF2YWlsYWJsZSBmb3IgdGhlIG5leHQgY2FsbAogIC8vIHRvIHVwbG9hZEZpbGVzQ29udGludWUgZnJvbSBQeXRob24uCiAgb3V0cHV0RWxlbWVudC5zdGVwcyA9IHN0ZXBzOwoKICByZXR1cm4gX3VwbG9hZEZpbGVzQ29udGludWUob3V0cHV0SWQpOwp9CgovLyBUaGlzIGlzIHJvdWdobHkgYW4gYXN5bmMgZ2VuZXJhdG9yIChub3Qgc3VwcG9ydGVkIGluIHRoZSBicm93c2VyIHlldCksCi8vIHdoZXJlIHRoZXJlIGFyZSBtdWx0aXBsZSBhc3luY2hyb25vdXMgc3RlcHMgYW5kIHRoZSBQeXRob24gc2lkZSBpcyBnb2luZwovLyB0byBwb2xsIGZvciBjb21wbGV0aW9uIG9mIGVhY2ggc3RlcC4KLy8gVGhpcyB1c2VzIGEgUHJvbWlzZSB0byBibG9jayB0aGUgcHl0aG9uIHNpZGUgb24gY29tcGxldGlvbiBvZiBlYWNoIHN0ZXAsCi8vIHRoZW4gcGFzc2VzIHRoZSByZXN1bHQgb2YgdGhlIHByZXZpb3VzIHN0ZXAgYXMgdGhlIGlucHV0IHRvIHRoZSBuZXh0IHN0ZXAuCmZ1bmN0aW9uIF91cGxvYWRGaWxlc0NvbnRpbnVlKG91dHB1dElkKSB7CiAgY29uc3Qgb3V0cHV0RWxlbWVudCA9IGRvY3VtZW50LmdldEVsZW1lbnRCeUlkKG91dHB1dElkKTsKICBjb25zdCBzdGVwcyA9IG91dHB1dEVsZW1lbnQuc3RlcHM7CgogIGNvbnN0IG5leHQgPSBzdGVwcy5uZXh0KG91dHB1dEVsZW1lbnQubGFzdFByb21pc2VWYWx1ZSk7CiAgcmV0dXJuIFByb21pc2UucmVzb2x2ZShuZXh0LnZhbHVlLnByb21pc2UpLnRoZW4oKHZhbHVlKSA9PiB7CiAgICAvLyBDYWNoZSB0aGUgbGFzdCBwcm9taXNlIHZhbHVlIHRvIG1ha2UgaXQgYXZhaWxhYmxlIHRvIHRoZSBuZXh0CiAgICAvLyBzdGVwIG9mIHRoZSBnZW5lcmF0b3IuCiAgICBvdXRwdXRFbGVtZW50Lmxhc3RQcm9taXNlVmFsdWUgPSB2YWx1ZTsKICAgIHJldHVybiBuZXh0LnZhbHVlLnJlc3BvbnNlOwogIH0pOwp9CgovKioKICogR2VuZXJhdG9yIGZ1bmN0aW9uIHdoaWNoIGlzIGNhbGxlZCBiZXR3ZWVuIGVhY2ggYXN5bmMgc3RlcCBvZiB0aGUgdXBsb2FkCiAqIHByb2Nlc3MuCiAqIEBwYXJhbSB7c3RyaW5nfSBpbnB1dElkIEVsZW1lbnQgSUQgb2YgdGhlIGlucHV0IGZpbGUgcGlja2VyIGVsZW1lbnQuCiAqIEBwYXJhbSB7c3RyaW5nfSBvdXRwdXRJZCBFbGVtZW50IElEIG9mIHRoZSBvdXRwdXQgZGlzcGxheS4KICogQHJldHVybiB7IUl0ZXJhYmxlPCFPYmplY3Q+fSBJdGVyYWJsZSBvZiBuZXh0IHN0ZXBzLgogKi8KZnVuY3Rpb24qIHVwbG9hZEZpbGVzU3RlcChpbnB1dElkLCBvdXRwdXRJZCkgewogIGNvbnN0IGlucHV0RWxlbWVudCA9IGRvY3VtZW50LmdldEVsZW1lbnRCeUlkKGlucHV0SWQpOwogIGlucHV0RWxlbWVudC5kaXNhYmxlZCA9IGZhbHNlOwoKICBjb25zdCBvdXRwdXRFbGVtZW50ID0gZG9jdW1lbnQuZ2V0RWxlbWVudEJ5SWQob3V0cHV0SWQpOwogIG91dHB1dEVsZW1lbnQuaW5uZXJIVE1MID0gJyc7CgogIGNvbnN0IHBpY2tlZFByb21pc2UgPSBuZXcgUHJvbWlzZSgocmVzb2x2ZSkgPT4gewogICAgaW5wdXRFbGVtZW50LmFkZEV2ZW50TGlzdGVuZXIoJ2NoYW5nZScsIChlKSA9PiB7CiAgICAgIHJlc29sdmUoZS50YXJnZXQuZmlsZXMpOwogICAgfSk7CiAgfSk7CgogIGNvbnN0IGNhbmNlbCA9IGRvY3VtZW50LmNyZWF0ZUVsZW1lbnQoJ2J1dHRvbicpOwogIGlucHV0RWxlbWVudC5wYXJlbnRFbGVtZW50LmFwcGVuZENoaWxkKGNhbmNlbCk7CiAgY2FuY2VsLnRleHRDb250ZW50ID0gJ0NhbmNlbCB1cGxvYWQnOwogIGNvbnN0IGNhbmNlbFByb21pc2UgPSBuZXcgUHJvbWlzZSgocmVzb2x2ZSkgPT4gewogICAgY2FuY2VsLm9uY2xpY2sgPSAoKSA9PiB7CiAgICAgIHJlc29sdmUobnVsbCk7CiAgICB9OwogIH0pOwoKICAvLyBXYWl0IGZvciB0aGUgdXNlciB0byBwaWNrIHRoZSBmaWxlcy4KICBjb25zdCBmaWxlcyA9IHlpZWxkIHsKICAgIHByb21pc2U6IFByb21pc2UucmFjZShbcGlja2VkUHJvbWlzZSwgY2FuY2VsUHJvbWlzZV0pLAogICAgcmVzcG9uc2U6IHsKICAgICAgYWN0aW9uOiAnc3RhcnRpbmcnLAogICAgfQogIH07CgogIGNhbmNlbC5yZW1vdmUoKTsKCiAgLy8gRGlzYWJsZSB0aGUgaW5wdXQgZWxlbWVudCBzaW5jZSBmdXJ0aGVyIHBpY2tzIGFyZSBub3QgYWxsb3dlZC4KICBpbnB1dEVsZW1lbnQuZGlzYWJsZWQgPSB0cnVlOwoKICBpZiAoIWZpbGVzKSB7CiAgICByZXR1cm4gewogICAgICByZXNwb25zZTogewogICAgICAgIGFjdGlvbjogJ2NvbXBsZXRlJywKICAgICAgfQogICAgfTsKICB9CgogIGZvciAoY29uc3QgZmlsZSBvZiBmaWxlcykgewogICAgY29uc3QgbGkgPSBkb2N1bWVudC5jcmVhdGVFbGVtZW50KCdsaScpOwogICAgbGkuYXBwZW5kKHNwYW4oZmlsZS5uYW1lLCB7Zm9udFdlaWdodDogJ2JvbGQnfSkpOwogICAgbGkuYXBwZW5kKHNwYW4oCiAgICAgICAgYCgke2ZpbGUudHlwZSB8fCAnbi9hJ30pIC0gJHtmaWxlLnNpemV9IGJ5dGVzLCBgICsKICAgICAgICBgbGFzdCBtb2RpZmllZDogJHsKICAgICAgICAgICAgZmlsZS5sYXN0TW9kaWZpZWREYXRlID8gZmlsZS5sYXN0TW9kaWZpZWREYXRlLnRvTG9jYWxlRGF0ZVN0cmluZygpIDoKICAgICAgICAgICAgICAgICAgICAgICAgICAgICAgICAgICAgJ24vYSd9IC0gYCkpOwogICAgY29uc3QgcGVyY2VudCA9IHNwYW4oJzAlIGRvbmUnKTsKICAgIGxpLmFwcGVuZENoaWxkKHBlcmNlbnQpOwoKICAgIG91dHB1dEVsZW1lbnQuYXBwZW5kQ2hpbGQobGkpOwoKICAgIGNvbnN0IGZpbGVEYXRhUHJvbWlzZSA9IG5ldyBQcm9taXNlKChyZXNvbHZlKSA9PiB7CiAgICAgIGNvbnN0IHJlYWRlciA9IG5ldyBGaWxlUmVhZGVyKCk7CiAgICAgIHJlYWRlci5vbmxvYWQgPSAoZSkgPT4gewogICAgICAgIHJlc29sdmUoZS50YXJnZXQucmVzdWx0KTsKICAgICAgfTsKICAgICAgcmVhZGVyLnJlYWRBc0FycmF5QnVmZmVyKGZpbGUpOwogICAgfSk7CiAgICAvLyBXYWl0IGZvciB0aGUgZGF0YSB0byBiZSByZWFkeS4KICAgIGxldCBmaWxlRGF0YSA9IHlpZWxkIHsKICAgICAgcHJvbWlzZTogZmlsZURhdGFQcm9taXNlLAogICAgICByZXNwb25zZTogewogICAgICAgIGFjdGlvbjogJ2NvbnRpbnVlJywKICAgICAgfQogICAgfTsKCiAgICAvLyBVc2UgYSBjaHVua2VkIHNlbmRpbmcgdG8gYXZvaWQgbWVzc2FnZSBzaXplIGxpbWl0cy4gU2VlIGIvNjIxMTU2NjAuCiAgICBsZXQgcG9zaXRpb24gPSAwOwogICAgd2hpbGUgKHBvc2l0aW9uIDwgZmlsZURhdGEuYnl0ZUxlbmd0aCkgewogICAgICBjb25zdCBsZW5ndGggPSBNYXRoLm1pbihmaWxlRGF0YS5ieXRlTGVuZ3RoIC0gcG9zaXRpb24sIE1BWF9QQVlMT0FEX1NJWkUpOwogICAgICBjb25zdCBjaHVuayA9IG5ldyBVaW50OEFycmF5KGZpbGVEYXRhLCBwb3NpdGlvbiwgbGVuZ3RoKTsKICAgICAgcG9zaXRpb24gKz0gbGVuZ3RoOwoKICAgICAgY29uc3QgYmFzZTY0ID0gYnRvYShTdHJpbmcuZnJvbUNoYXJDb2RlLmFwcGx5KG51bGwsIGNodW5rKSk7CiAgICAgIHlpZWxkIHsKICAgICAgICByZXNwb25zZTogewogICAgICAgICAgYWN0aW9uOiAnYXBwZW5kJywKICAgICAgICAgIGZpbGU6IGZpbGUubmFtZSwKICAgICAgICAgIGRhdGE6IGJhc2U2NCwKICAgICAgICB9LAogICAgICB9OwogICAgICBwZXJjZW50LnRleHRDb250ZW50ID0KICAgICAgICAgIGAke01hdGgucm91bmQoKHBvc2l0aW9uIC8gZmlsZURhdGEuYnl0ZUxlbmd0aCkgKiAxMDApfSUgZG9uZWA7CiAgICB9CiAgfQoKICAvLyBBbGwgZG9uZS4KICB5aWVsZCB7CiAgICByZXNwb25zZTogewogICAgICBhY3Rpb246ICdjb21wbGV0ZScsCiAgICB9CiAgfTsKfQoKc2NvcGUuZ29vZ2xlID0gc2NvcGUuZ29vZ2xlIHx8IHt9OwpzY29wZS5nb29nbGUuY29sYWIgPSBzY29wZS5nb29nbGUuY29sYWIgfHwge307CnNjb3BlLmdvb2dsZS5jb2xhYi5fZmlsZXMgPSB7CiAgX3VwbG9hZEZpbGVzLAogIF91cGxvYWRGaWxlc0NvbnRpbnVlLAp9Owp9KShzZWxmKTsK",
              "ok": true,
              "headers": [
                [
                  "content-type",
                  "application/javascript"
                ]
              ],
              "status": 200,
              "status_text": ""
            }
          },
          "base_uri": "https://localhost:8080/",
          "height": 72
        },
        "outputId": "18812a91-a9c6-427d-8d37-49c8aea02a13"
      },
      "source": [
        "uploaded = files.upload()"
      ],
      "execution_count": 59,
      "outputs": [
        {
          "output_type": "display_data",
          "data": {
            "text/html": [
              "\n",
              "     <input type=\"file\" id=\"files-9f97dcde-90f5-476c-b3b1-8a6e7c7ade8c\" name=\"files[]\" multiple disabled\n",
              "        style=\"border:none\" />\n",
              "     <output id=\"result-9f97dcde-90f5-476c-b3b1-8a6e7c7ade8c\">\n",
              "      Upload widget is only available when the cell has been executed in the\n",
              "      current browser session. Please rerun this cell to enable.\n",
              "      </output>\n",
              "      <script src=\"/nbextensions/google.colab/files.js\"></script> "
            ],
            "text/plain": [
              "<IPython.core.display.HTML object>"
            ]
          },
          "metadata": {
            "tags": []
          }
        },
        {
          "output_type": "stream",
          "text": [
            "Saving rank.csv to rank.csv\n"
          ],
          "name": "stdout"
        }
      ]
    },
    {
      "cell_type": "code",
      "metadata": {
        "id": "NArKrpj7DH_q",
        "colab_type": "code",
        "colab": {
          "base_uri": "https://localhost:8080/",
          "height": 34
        },
        "outputId": "cbfbf3c7-5411-4b5c-c414-0293523b3065"
      },
      "source": [
        "ls"
      ],
      "execution_count": 60,
      "outputs": [
        {
          "output_type": "stream",
          "text": [
            "new_results.csv  rank.csv  ranking.csv  resumo_respostas.csv  \u001b[0m\u001b[01;34msample_data\u001b[0m/\n"
          ],
          "name": "stdout"
        }
      ]
    },
    {
      "cell_type": "code",
      "metadata": {
        "id": "p1ah0VSJGrPu",
        "colab_type": "code",
        "colab": {
          "base_uri": "https://localhost:8080/",
          "height": 359
        },
        "outputId": "5864ef38-1a14-45d7-ccf5-44819fe5e1ac"
      },
      "source": [
        "data = pd.read_csv('new_results.csv')\n",
        "data.head(10)"
      ],
      "execution_count": 16,
      "outputs": [
        {
          "output_type": "execute_result",
          "data": {
            "text/html": [
              "<div>\n",
              "<style scoped>\n",
              "    .dataframe tbody tr th:only-of-type {\n",
              "        vertical-align: middle;\n",
              "    }\n",
              "\n",
              "    .dataframe tbody tr th {\n",
              "        vertical-align: top;\n",
              "    }\n",
              "\n",
              "    .dataframe thead th {\n",
              "        text-align: right;\n",
              "    }\n",
              "</style>\n",
              "<table border=\"1\" class=\"dataframe\">\n",
              "  <thead>\n",
              "    <tr style=\"text-align: right;\">\n",
              "      <th></th>\n",
              "      <th>build</th>\n",
              "      <th>mismanaging</th>\n",
              "      <th>rework</th>\n",
              "      <th>unnecessarily</th>\n",
              "      <th>extraneous</th>\n",
              "      <th>psychological</th>\n",
              "      <th>waiting</th>\n",
              "      <th>knowledge</th>\n",
              "      <th>ineffective</th>\n",
              "    </tr>\n",
              "  </thead>\n",
              "  <tbody>\n",
              "    <tr>\n",
              "      <th>0</th>\n",
              "      <td>3</td>\n",
              "      <td>3</td>\n",
              "      <td>3</td>\n",
              "      <td>1</td>\n",
              "      <td>3</td>\n",
              "      <td>0</td>\n",
              "      <td>0</td>\n",
              "      <td>2</td>\n",
              "      <td>3</td>\n",
              "    </tr>\n",
              "    <tr>\n",
              "      <th>1</th>\n",
              "      <td>3</td>\n",
              "      <td>1</td>\n",
              "      <td>2</td>\n",
              "      <td>1</td>\n",
              "      <td>3</td>\n",
              "      <td>3</td>\n",
              "      <td>3</td>\n",
              "      <td>0</td>\n",
              "      <td>2</td>\n",
              "    </tr>\n",
              "    <tr>\n",
              "      <th>2</th>\n",
              "      <td>2</td>\n",
              "      <td>2</td>\n",
              "      <td>2</td>\n",
              "      <td>2</td>\n",
              "      <td>2</td>\n",
              "      <td>2</td>\n",
              "      <td>1</td>\n",
              "      <td>2</td>\n",
              "      <td>2</td>\n",
              "    </tr>\n",
              "    <tr>\n",
              "      <th>3</th>\n",
              "      <td>3</td>\n",
              "      <td>1</td>\n",
              "      <td>1</td>\n",
              "      <td>2</td>\n",
              "      <td>2</td>\n",
              "      <td>1</td>\n",
              "      <td>2</td>\n",
              "      <td>1</td>\n",
              "      <td>2</td>\n",
              "    </tr>\n",
              "    <tr>\n",
              "      <th>4</th>\n",
              "      <td>2</td>\n",
              "      <td>3</td>\n",
              "      <td>3</td>\n",
              "      <td>3</td>\n",
              "      <td>3</td>\n",
              "      <td>3</td>\n",
              "      <td>2</td>\n",
              "      <td>3</td>\n",
              "      <td>3</td>\n",
              "    </tr>\n",
              "    <tr>\n",
              "      <th>5</th>\n",
              "      <td>2</td>\n",
              "      <td>3</td>\n",
              "      <td>3</td>\n",
              "      <td>1</td>\n",
              "      <td>3</td>\n",
              "      <td>2</td>\n",
              "      <td>1</td>\n",
              "      <td>3</td>\n",
              "      <td>2</td>\n",
              "    </tr>\n",
              "    <tr>\n",
              "      <th>6</th>\n",
              "      <td>1</td>\n",
              "      <td>1</td>\n",
              "      <td>2</td>\n",
              "      <td>1</td>\n",
              "      <td>2</td>\n",
              "      <td>0</td>\n",
              "      <td>1</td>\n",
              "      <td>3</td>\n",
              "      <td>1</td>\n",
              "    </tr>\n",
              "    <tr>\n",
              "      <th>7</th>\n",
              "      <td>3</td>\n",
              "      <td>2</td>\n",
              "      <td>2</td>\n",
              "      <td>1</td>\n",
              "      <td>3</td>\n",
              "      <td>2</td>\n",
              "      <td>1</td>\n",
              "      <td>3</td>\n",
              "      <td>1</td>\n",
              "    </tr>\n",
              "    <tr>\n",
              "      <th>8</th>\n",
              "      <td>3</td>\n",
              "      <td>3</td>\n",
              "      <td>3</td>\n",
              "      <td>3</td>\n",
              "      <td>1</td>\n",
              "      <td>1</td>\n",
              "      <td>0</td>\n",
              "      <td>2</td>\n",
              "      <td>2</td>\n",
              "    </tr>\n",
              "    <tr>\n",
              "      <th>9</th>\n",
              "      <td>3</td>\n",
              "      <td>3</td>\n",
              "      <td>2</td>\n",
              "      <td>2</td>\n",
              "      <td>3</td>\n",
              "      <td>1</td>\n",
              "      <td>2</td>\n",
              "      <td>2</td>\n",
              "      <td>3</td>\n",
              "    </tr>\n",
              "  </tbody>\n",
              "</table>\n",
              "</div>"
            ],
            "text/plain": [
              "   build  mismanaging  rework  ...  waiting  knowledge  ineffective\n",
              "0      3            3       3  ...        0          2            3\n",
              "1      3            1       2  ...        3          0            2\n",
              "2      2            2       2  ...        1          2            2\n",
              "3      3            1       1  ...        2          1            2\n",
              "4      2            3       3  ...        2          3            3\n",
              "5      2            3       3  ...        1          3            2\n",
              "6      1            1       2  ...        1          3            1\n",
              "7      3            2       2  ...        1          3            1\n",
              "8      3            3       3  ...        0          2            2\n",
              "9      3            3       2  ...        2          2            3\n",
              "\n",
              "[10 rows x 9 columns]"
            ]
          },
          "metadata": {
            "tags": []
          },
          "execution_count": 16
        }
      ]
    },
    {
      "cell_type": "code",
      "metadata": {
        "id": "xFfBiXLyHZSc",
        "colab_type": "code",
        "colab": {
          "base_uri": "https://localhost:8080/",
          "height": 34
        },
        "outputId": "363d7d38-0f7f-49a6-c107-1240060bd750"
      },
      "source": [
        "data = 5 * randn(100) + 50\n",
        "# summarize\n",
        "print('mean=%.3f stdv=%.3f' % (mean(data), std(data)))"
      ],
      "execution_count": 17,
      "outputs": [
        {
          "output_type": "stream",
          "text": [
            "mean=50.090 stdv=4.460\n"
          ],
          "name": "stdout"
        }
      ]
    },
    {
      "cell_type": "markdown",
      "metadata": {
        "id": "MahnL6tbQx0j",
        "colab_type": "text"
      },
      "source": [
        "### Análise descritiva dos dados\n",
        "\n",
        "Box-plot e Histograma da amostra ssimetria na distribuição dos dados."
      ]
    },
    {
      "cell_type": "code",
      "metadata": {
        "id": "KD-y9wkGKfat",
        "colab_type": "code",
        "colab": {
          "base_uri": "https://localhost:8080/",
          "height": 369
        },
        "outputId": "5aadc32a-918c-41eb-a187-65b468b31d03"
      },
      "source": [
        "# Define o stilo para ggplot\n",
        "plt.style.use(\"ggplot\")\n",
        "\n",
        "# Cada plot terá o mesmo tamanho de figuras (10,5)\n",
        "fig, (ax1, ax2) = plt.subplots(1, 2, figsize=(10,5))\n",
        "\n",
        "# Creating plot \n",
        "plt.subplot(1, 2, 1)\n",
        "plt.boxplot(data) \n",
        "plt.title('Box-plot e Histograma da distribuição de uma amostra de dados')\n",
        "\n",
        "# Histogram plot\n",
        "plt.subplot(1, 2, 2)\n",
        "pyplot.hist(data)\n",
        "\n",
        "plt.xlabel(\"Compartimento\", fontsize=12)  \n",
        "plt.ylabel(\"Número de observações em cada compartimento\", fontsize=12)\n",
        "\n",
        "plt.tight_layout()\n",
        "pyplot.show()"
      ],
      "execution_count": 18,
      "outputs": [
        {
          "output_type": "display_data",
          "data": {
            "image/png": "[encoded data removed]",
            "text/plain": [
              "<Figure size 720x360 with 2 Axes>"
            ]
          },
          "metadata": {
            "tags": []
          }
        }
      ]
    },
    {
      "cell_type": "markdown",
      "metadata": {
        "id": "Du-YGgRpLA27",
        "colab_type": "text"
      },
      "source": [
        "Gráfico popular para verificar a distribuição de uma amostra de dados é o gráfico quantil-quantil, gráfico QQ ou gráfico QQ, para abreviar.\n",
        "\n",
        "Cada ponto de dados na amostra é emparelhado com um membro semelhante da distribuição idealizada na mesma distribuição cumulativa.\n",
        "\n",
        "Os pontos resultantes são plotados como um gráfico de dispersão com o valor idealizado no eixo x e a amostra de dados no eixo y.\n",
        "\n",
        "Gráfico QQ mostrando o gráfico de dispersão de pontos em uma linha diagonal, ajustando-se ao padrão diagonal esperado para uma amostra de uma distribuição gaussiana.\n",
        "\n",
        "Existem alguns pequenos desvios, especialmente na parte inferior do gráfico, o que é esperado dada a pequena amostra de dados."
      ]
    },
    {
      "cell_type": "code",
      "metadata": {
        "id": "vTiccVq6C8YS",
        "colab_type": "code",
        "colab": {
          "base_uri": "https://localhost:8080/",
          "height": 346
        },
        "outputId": "77a6cf2d-d15d-4ecd-e17e-9756bcbef0df"
      },
      "source": [
        "import numpy as np\n",
        "plt.style.use(\"ggplot\")\n",
        "\n",
        "# Creating plot \n",
        "sns.kdeplot(data, shade=True)\n",
        "plt.xlabel(\"Compartimento\", fontsize=12)  \n",
        "plt.ylabel(\"Número de observações em cada compartimento\", fontsize=12)\n",
        "plt.title(\"Distribuição Gaussiana\")"
      ],
      "execution_count": 44,
      "outputs": [
        {
          "output_type": "execute_result",
          "data": {
            "text/plain": [
              "Text(0.5, 1.0, 'Distribuição Gaussiana')"
            ]
          },
          "metadata": {
            "tags": []
          },
          "execution_count": 44
        },
        {
          "output_type": "display_data",
          "data": {
            "image/png": "[encoded data removed]",
            "text/plain": [
              "<Figure size 432x288 with 1 Axes>"
            ]
          },
          "metadata": {
            "tags": []
          }
        }
      ]
    },
    {
      "cell_type": "code",
      "metadata": {
        "id": "oySMcTnsFhJ_",
        "colab_type": "code",
        "colab": {
          "base_uri": "https://localhost:8080/",
          "height": 282
        },
        "outputId": "12a278b7-231d-4382-e9c0-a14c20b30355"
      },
      "source": [
        "# Creating plot \n",
        "def plot_distribution(inp):\n",
        "    plt.figure()\n",
        "    ax = sns.distplot(inp)\n",
        "    plt.axvline(np.mean(inp), color=\"k\", linestyle=\"dashed\", linewidth=1)\n",
        "    _, max_ = plt.ylim()\n",
        "    plt.text(\n",
        "        inp.mean() + inp.mean() / 10,\n",
        "        max_ - max_ / 10,\n",
        "        \"Mean: {:.2f}\".format(inp.mean()),\n",
        "    )\n",
        "  \n",
        "    return plt.figure\n",
        "    \n",
        "plot_distribution(data)"
      ],
      "execution_count": 48,
      "outputs": [
        {
          "output_type": "execute_result",
          "data": {
            "text/plain": [
              "<function matplotlib.pyplot.figure>"
            ]
          },
          "metadata": {
            "tags": []
          },
          "execution_count": 48
        },
        {
          "output_type": "display_data",
          "data": {
            "image/png": "[encoded data removed]",
            "text/plain": [
              "<Figure size 432x288 with 1 Axes>"
            ]
          },
          "metadata": {
            "tags": []
          }
        }
      ]
    },
    {
      "cell_type": "code",
      "metadata": {
        "id": "8RjTLvWfDXA-",
        "colab_type": "code",
        "colab": {
          "base_uri": "https://localhost:8080/",
          "height": 282
        },
        "outputId": "ef2569bf-8ebc-4c71-a5c7-e69b647d416d"
      },
      "source": [
        "from statsmodels.graphics.gofplots import qqplot\n",
        "# q-q plot\n",
        "qqplot(data, line='s')\n",
        "plt.xlabel(\"Quantis Gaussianos\", fontsize=12)  \n",
        "plt.ylabel(\"Quantis Amostrais\", fontsize=12)\n",
        "pyplot.show()"
      ],
      "execution_count": 49,
      "outputs": [
        {
          "output_type": "display_data",
          "data": {
            "image/png": "[encoded data removed]",
            "text/plain": [
              "<Figure size 432x288 with 1 Axes>"
            ]
          },
          "metadata": {
            "tags": []
          }
        }
      ]
    },
    {
      "cell_type": "markdown",
      "metadata": {
        "id": "-DpSvU1ENBNt",
        "colab_type": "text"
      },
      "source": [
        "Os testes assumem que a amostra foi retirada de uma distribuição gaussiana. \n",
        "Tecnicamente, isso é chamado de hipótese nula ou H0. \n",
        "Um nível de limite é escolhido chamado alfa, normalmente 5% (ou 0,05), que é usado para interpretar o valor p.\n",
        "\n",
        "*   p <= alfa : rejeita H0, não normal.\n",
        "*   p> alfa : falha ao rejeitar H0, normal.\n",
        "\n",
        "Isso significa que, em geral, estamos buscando resultados com um valor p maior para confirmar que nossa amostra foi provavelmente extraída de uma distribuição gaussiana.\n",
        "\n",
        "Um resultado acima de 5% não significa que a hipótese nula seja verdadeira. Isso significa que é muito provável, dadas as evidências disponíveis.\n"
      ]
    },
    {
      "cell_type": "code",
      "metadata": {
        "id": "7kEEkj8rNCov",
        "colab_type": "code",
        "colab": {
          "base_uri": "https://localhost:8080/",
          "height": 51
        },
        "outputId": "6b294f8d-302e-4d5f-9217-7e77e3bad0b9"
      },
      "source": [
        "# Teste Shapiro-Wilk\n",
        "from scipy.stats import shapiro\n",
        "\n",
        "# Teste de normalidade\n",
        "stat, p = shapiro(data)\n",
        "print('Statistics=%.3f, p=%.3f' % (stat, p))\n",
        "\n",
        "# Interpretar\n",
        "alpha = 0.05\n",
        "if p > alpha:\n",
        "\tprint('A amostra parece gaussiana (falhar em rejeitar H0)')\n",
        "else:\n",
        "\tprint('A amostra não parece gaussiana(rejeitar H0)')"
      ],
      "execution_count": 50,
      "outputs": [
        {
          "output_type": "stream",
          "text": [
            "Statistics=0.991, p=0.768\n",
            "A amostra parece gaussiana (falhar em rejeitar H0)\n"
          ],
          "name": "stdout"
        }
      ]
    },
    {
      "cell_type": "markdown",
      "metadata": {
        "id": "i8pAS8mtRsi7",
        "colab_type": "text"
      },
      "source": [
        "O valor p é interpretado em relação a um alfa de 5% e descobre que o conjunto de dados de teste não se desvia significativamente do normal."
      ]
    },
    {
      "cell_type": "code",
      "metadata": {
        "id": "huvAfBZ7P2hZ",
        "colab_type": "code",
        "colab": {
          "base_uri": "https://localhost:8080/",
          "height": 51
        },
        "outputId": "3a0f2a62-b230-4c55-fe7b-a95905b480e0"
      },
      "source": [
        "# Teste K ^ 2 de D'Agostino\n",
        "from scipy.stats import normaltest\n",
        "\n",
        "# Teste de normalidade\n",
        "stat, p = normaltest(data)\n",
        "print('Statistics=%.3f, p=%.3f' % (stat, p))\n",
        "\n",
        "# Interpretar\n",
        "alpha = 0.05\n",
        "if p > alpha:\n",
        "\tprint('A amostra parece gaussiana (falhar em rejeitar H0)')\n",
        "else:\n",
        "\tprint('A amostra não parece gaussiana(rejeitar H0)')"
      ],
      "execution_count": 51,
      "outputs": [
        {
          "output_type": "stream",
          "text": [
            "Statistics=0.710, p=0.701\n",
            "A amostra parece gaussiana (falhar em rejeitar H0)\n"
          ],
          "name": "stdout"
        }
      ]
    },
    {
      "cell_type": "markdown",
      "metadata": {
        "id": "TFQKvn_kSHuQ",
        "colab_type": "text"
      },
      "source": [
        "Teste Anderson-Darling"
      ]
    },
    {
      "cell_type": "code",
      "metadata": {
        "id": "J6PmrJl7SJEy",
        "colab_type": "code",
        "colab": {
          "base_uri": "https://localhost:8080/",
          "height": 119
        },
        "outputId": "f401377e-d5f0-4110-9c23-d8bc282ed600"
      },
      "source": [
        "# Teste Anderson-Darling\n",
        "from scipy.stats import anderson\n",
        "\n",
        "# Gerar observações univariadas\n",
        "data = 5 * randn(100) + 50\n",
        "\n",
        "# Teste de normalidade\n",
        "result = anderson(data)\n",
        "print('Statistic: %.3f' % result.statistic)\n",
        "p = 0\n",
        "for i in range(len(result.critical_values)):\n",
        "\tsl, cv = result.significance_level[i], result.critical_values[i]\n",
        "\tif result.statistic < result.critical_values[i]:\n",
        "\t\tprint('%.3f: %.3f, Os dados parecem normais (falha ao rejeitar H0)' % (sl, cv))\n",
        "\telse:\n",
        "\t\tprint('%.3f: %.3f, Os dados não parecem normais (rejeitar H0)' % (sl, cv))"
      ],
      "execution_count": 53,
      "outputs": [
        {
          "output_type": "stream",
          "text": [
            "Statistic: 0.291\n",
            "15.000: 0.555, Os dados parecem normais (falha ao rejeitar H0)\n",
            "10.000: 0.632, Os dados parecem normais (falha ao rejeitar H0)\n",
            "5.000: 0.759, Os dados parecem normais (falha ao rejeitar H0)\n",
            "2.500: 0.885, Os dados parecem normais (falha ao rejeitar H0)\n",
            "1.000: 1.053, Os dados parecem normais (falha ao rejeitar H0)\n"
          ],
          "name": "stdout"
        }
      ]
    },
    {
      "cell_type": "code",
      "metadata": {
        "id": "owKiGyclk296",
        "colab_type": "code",
        "colab": {
          "base_uri": "https://localhost:8080/",
          "height": 299
        },
        "outputId": "bb13fbcb-8f6d-468b-dc3e-b938fb1c35be"
      },
      "source": [
        "# Rank por Estados do Brasil\n",
        "\n",
        "plt.style.use(\"ggplot\")\n",
        "\n",
        "plt.xlabel(\"Estados do Brasil\", fontsize=12)  \n",
        "plt.ylabel(\"Quantitativos\", fontsize=12)\n",
        "plt.title('Histograma da Amostra por Estados do Brasil')\n",
        "\n",
        "grupos = ['PE', 'AL', 'PB', 'CE', 'SP', 'PR', 'SE', 'MG', 'BH']\n",
        "valores = [35, 24, 5, 5, 2, 2, 1, 1,1 ]\n",
        "plt.bar(grupos, valores)\n",
        "plt.show()"
      ],
      "execution_count": 54,
      "outputs": [
        {
          "output_type": "display_data",
          "data": {
            "image/png": "[encoded data removed]",
            "text/plain": [
              "<Figure size 432x288 with 1 Axes>"
            ]
          },
          "metadata": {
            "tags": []
          }
        }
      ]
    },
    {
      "cell_type": "markdown",
      "metadata": {
        "id": "WJyyFXtAKwz3",
        "colab_type": "text"
      },
      "source": [
        "# Análises dos Resultados\n",
        "\n",
        "Resultados T-testes"
      ]
    },
    {
      "cell_type": "code",
      "metadata": {
        "id": "cBD6xSodKz1n",
        "colab_type": "code",
        "colab": {
          "base_uri": "https://localhost:8080/",
          "height": 80
        },
        "outputId": "9fb5ef00-020e-4583-bd99-8f091b26bc5d"
      },
      "source": [
        "# Ranking Geral\n",
        "ranking = pd.read_csv('ranking.csv')\n",
        "ranking.head()"
      ],
      "execution_count": 55,
      "outputs": [
        {
          "output_type": "execute_result",
          "data": {
            "text/html": [
              "<div>\n",
              "<style scoped>\n",
              "    .dataframe tbody tr th:only-of-type {\n",
              "        vertical-align: middle;\n",
              "    }\n",
              "\n",
              "    .dataframe tbody tr th {\n",
              "        vertical-align: top;\n",
              "    }\n",
              "\n",
              "    .dataframe thead th {\n",
              "        text-align: right;\n",
              "    }\n",
              "</style>\n",
              "<table border=\"1\" class=\"dataframe\">\n",
              "  <thead>\n",
              "    <tr style=\"text-align: right;\">\n",
              "      <th></th>\n",
              "      <th>build</th>\n",
              "      <th>mismanaging</th>\n",
              "      <th>rework</th>\n",
              "      <th>unnecessarily</th>\n",
              "      <th>extraneous</th>\n",
              "      <th>psychological</th>\n",
              "      <th>waiting</th>\n",
              "      <th>knowledge</th>\n",
              "      <th>ineffective</th>\n",
              "    </tr>\n",
              "  </thead>\n",
              "  <tbody>\n",
              "    <tr>\n",
              "      <th>0</th>\n",
              "      <td>3</td>\n",
              "      <td>4</td>\n",
              "      <td>4</td>\n",
              "      <td>1</td>\n",
              "      <td>2</td>\n",
              "      <td>5</td>\n",
              "      <td>2</td>\n",
              "      <td>4</td>\n",
              "      <td>4</td>\n",
              "    </tr>\n",
              "  </tbody>\n",
              "</table>\n",
              "</div>"
            ],
            "text/plain": [
              "   build  mismanaging  rework  ...  waiting  knowledge  ineffective\n",
              "0      3            4       4  ...        2          4            4\n",
              "\n",
              "[1 rows x 9 columns]"
            ]
          },
          "metadata": {
            "tags": []
          },
          "execution_count": 55
        }
      ]
    },
    {
      "cell_type": "code",
      "metadata": {
        "id": "vZ09SVnKKz7_",
        "colab_type": "code",
        "colab": {
          "base_uri": "https://localhost:8080/",
          "height": 279
        },
        "outputId": "bea334d6-b5dd-4494-82b2-906ed9622a6f"
      },
      "source": [
        "# Ranking Geral por desperdícios\n",
        "\n",
        "plt.style.use(\"ggplot\")\n",
        "\n",
        "plt.xlabel(\"Rank\", fontsize=10)  \n",
        "plt.ylabel(\"Desperdícios\", fontsize=10)\n",
        "#plt.title('Ranking Geral por desperdícios')\n",
        "\n",
        "grupos2 = ['Build', 'Mismanaging', 'Rework', 'Unnecessarily', 'Extraneous', 'Psychological', 'Waiting', 'Knowledge', 'Ineffective']\n",
        "valores2 = [3, 4, 4, 1, 2, 5, 2, 4, 4]\n",
        "\n",
        "plt.barh(grupos2, valores2)\n",
        "plt.yticks(rotation=45)\n",
        "\n",
        "plt.show()\n",
        "#plt.bar(grupos2, valores2)"
      ],
      "execution_count": 56,
      "outputs": [
        {
          "output_type": "display_data",
          "data": {
            "image/png": "[encoded data removed]",
            "text/plain": [
              "<Figure size 432x288 with 1 Axes>"
            ]
          },
          "metadata": {
            "tags": []
          }
        }
      ]
    },
    {
      "cell_type": "code",
      "metadata": {
        "id": "1XuCIe6lWjxt",
        "colab_type": "code",
        "colab": {
          "base_uri": "https://localhost:8080/",
          "height": 248
        },
        "outputId": "d77ebf90-eba1-4ed3-ba04-e994efd895b9"
      },
      "source": [
        "#Gráfico de Pizza\n",
        "\n",
        "# define o nível de separabilidade entre as partes, ordem do vetor representa as partes\n",
        "explode = (0, 0, 0, 0, 0, 0.2, 0, 0, 0) \n",
        "labels=grupos2\n",
        "\n",
        "#define o formato de visualização com saída em 1.1%%, sombras e a separação entre as partes\n",
        "plt.pie(valores2, labels=grupos2, autopct='%1.1f%%', shadow=True, explode=explode)\n",
        "\n",
        "# inseri a legenda e a localização da legenda.\n",
        "#plt.legend(labels, loc=3)\n",
        "\n",
        "#plt.title('Percentagem do Ranking Geral por desperdícios')\n",
        "\n",
        "# define que o gráfico será plotado em circulo\n",
        "plt.axis('equal')\n",
        "\n",
        "plt.show()"
      ],
      "execution_count": 34,
      "outputs": [
        {
          "output_type": "display_data",
          "data": {
            "image/png": "[encoded data removed]",
            "text/plain": [
              "<Figure size 432x288 with 1 Axes>"
            ]
          },
          "metadata": {
            "tags": []
          }
        }
      ]
    },
    {
      "cell_type": "code",
      "metadata": {
        "id": "_nqk3Niwedm4",
        "colab_type": "code",
        "colab": {
          "base_uri": "https://localhost:8080/",
          "height": 204
        },
        "outputId": "59d9d7d7-6ccf-4406-80c6-5d6053983d98"
      },
      "source": [
        "# Resumo das Respostas\n",
        "resumo_respostas = pd.read_csv('resumo_respostas.csv')\n",
        "resumo_respostas.head()"
      ],
      "execution_count": 57,
      "outputs": [
        {
          "output_type": "execute_result",
          "data": {
            "text/html": [
              "<div>\n",
              "<style scoped>\n",
              "    .dataframe tbody tr th:only-of-type {\n",
              "        vertical-align: middle;\n",
              "    }\n",
              "\n",
              "    .dataframe tbody tr th {\n",
              "        vertical-align: top;\n",
              "    }\n",
              "\n",
              "    .dataframe thead th {\n",
              "        text-align: right;\n",
              "    }\n",
              "</style>\n",
              "<table border=\"1\" class=\"dataframe\">\n",
              "  <thead>\n",
              "    <tr style=\"text-align: right;\">\n",
              "      <th></th>\n",
              "      <th>pergunta</th>\n",
              "      <th>Nunca observei</th>\n",
              "      <th>Observo raramente</th>\n",
              "      <th>Observo ocasionalmente</th>\n",
              "      <th>frequência</th>\n",
              "    </tr>\n",
              "  </thead>\n",
              "  <tbody>\n",
              "    <tr>\n",
              "      <th>0</th>\n",
              "      <td>build</td>\n",
              "      <td>11</td>\n",
              "      <td>20</td>\n",
              "      <td>26</td>\n",
              "      <td>18</td>\n",
              "    </tr>\n",
              "    <tr>\n",
              "      <th>1</th>\n",
              "      <td>mismanaging</td>\n",
              "      <td>5</td>\n",
              "      <td>17</td>\n",
              "      <td>26</td>\n",
              "      <td>27</td>\n",
              "    </tr>\n",
              "    <tr>\n",
              "      <th>2</th>\n",
              "      <td>rework</td>\n",
              "      <td>6</td>\n",
              "      <td>10</td>\n",
              "      <td>34</td>\n",
              "      <td>25</td>\n",
              "    </tr>\n",
              "    <tr>\n",
              "      <th>3</th>\n",
              "      <td>unnecessarily</td>\n",
              "      <td>9</td>\n",
              "      <td>30</td>\n",
              "      <td>27</td>\n",
              "      <td>9</td>\n",
              "    </tr>\n",
              "    <tr>\n",
              "      <th>4</th>\n",
              "      <td>extraneous</td>\n",
              "      <td>2</td>\n",
              "      <td>14</td>\n",
              "      <td>22</td>\n",
              "      <td>37</td>\n",
              "    </tr>\n",
              "  </tbody>\n",
              "</table>\n",
              "</div>"
            ],
            "text/plain": [
              "        pergunta   Nunca observei  ...   Observo ocasionalmente   frequência\n",
              "0          build               11  ...                       26           18\n",
              "1    mismanaging                5  ...                       26           27\n",
              "2         rework                6  ...                       34           25\n",
              "3  unnecessarily                9  ...                       27            9\n",
              "4     extraneous                2  ...                       22           37\n",
              "\n",
              "[5 rows x 5 columns]"
            ]
          },
          "metadata": {
            "tags": []
          },
          "execution_count": 57
        }
      ]
    },
    {
      "cell_type": "code",
      "metadata": {
        "id": "bYiOIisGgxiw",
        "colab_type": "code",
        "colab": {
          "base_uri": "https://localhost:8080/",
          "height": 204
        },
        "outputId": "84a2b05e-456c-4095-ec92-790b8886a9e0"
      },
      "source": [
        "base = pd.read_csv('rank.csv')\n",
        "base.head()"
      ],
      "execution_count": 61,
      "outputs": [
        {
          "output_type": "execute_result",
          "data": {
            "text/html": [
              "<div>\n",
              "<style scoped>\n",
              "    .dataframe tbody tr th:only-of-type {\n",
              "        vertical-align: middle;\n",
              "    }\n",
              "\n",
              "    .dataframe tbody tr th {\n",
              "        vertical-align: top;\n",
              "    }\n",
              "\n",
              "    .dataframe thead th {\n",
              "        text-align: right;\n",
              "    }\n",
              "</style>\n",
              "<table border=\"1\" class=\"dataframe\">\n",
              "  <thead>\n",
              "    <tr style=\"text-align: right;\">\n",
              "      <th></th>\n",
              "      <th>waste</th>\n",
              "      <th>rank</th>\n",
              "      <th>candidate</th>\n",
              "      <th>State</th>\n",
              "    </tr>\n",
              "  </thead>\n",
              "  <tbody>\n",
              "    <tr>\n",
              "      <th>0</th>\n",
              "      <td>build</td>\n",
              "      <td>1</td>\n",
              "      <td>1</td>\n",
              "      <td>PE</td>\n",
              "    </tr>\n",
              "    <tr>\n",
              "      <th>1</th>\n",
              "      <td>mismanaging</td>\n",
              "      <td>1</td>\n",
              "      <td>1</td>\n",
              "      <td>PE</td>\n",
              "    </tr>\n",
              "    <tr>\n",
              "      <th>2</th>\n",
              "      <td>rework</td>\n",
              "      <td>1</td>\n",
              "      <td>1</td>\n",
              "      <td>PE</td>\n",
              "    </tr>\n",
              "    <tr>\n",
              "      <th>3</th>\n",
              "      <td>unnecessarily</td>\n",
              "      <td>3</td>\n",
              "      <td>1</td>\n",
              "      <td>PE</td>\n",
              "    </tr>\n",
              "    <tr>\n",
              "      <th>4</th>\n",
              "      <td>extraneous</td>\n",
              "      <td>1</td>\n",
              "      <td>1</td>\n",
              "      <td>PE</td>\n",
              "    </tr>\n",
              "  </tbody>\n",
              "</table>\n",
              "</div>"
            ],
            "text/plain": [
              "           waste  rank  candidate State\n",
              "0          build     1          1   PE \n",
              "1    mismanaging     1          1   PE \n",
              "2         rework     1          1   PE \n",
              "3  unnecessarily     3          1   PE \n",
              "4     extraneous     1          1   PE "
            ]
          },
          "metadata": {
            "tags": []
          },
          "execution_count": 61
        }
      ]
    },
    {
      "cell_type": "code",
      "metadata": {
        "id": "pvSozVq1LLLo",
        "colab_type": "code",
        "colab": {
          "base_uri": "https://localhost:8080/",
          "height": 68
        },
        "outputId": "26ff1df8-3b32-4b37-caa9-00da03f993f7"
      },
      "source": [
        "pip install plotly"
      ],
      "execution_count": 52,
      "outputs": [
        {
          "output_type": "stream",
          "text": [
            "Requirement already satisfied: plotly in /usr/local/lib/python3.6/dist-packages (4.4.1)\n",
            "Requirement already satisfied: retrying>=1.3.3 in /usr/local/lib/python3.6/dist-packages (from plotly) (1.3.3)\n",
            "Requirement already satisfied: six in /usr/local/lib/python3.6/dist-packages (from plotly) (1.15.0)\n"
          ],
          "name": "stdout"
        }
      ]
    },
    {
      "cell_type": "code",
      "metadata": {
        "id": "J9TPOxLlzZRb",
        "colab_type": "code",
        "colab": {
          "base_uri": "https://localhost:8080/",
          "height": 204
        },
        "outputId": "50d40f07-8233-4f49-953a-d09d4fc537d9"
      },
      "source": [
        "import pandas as pd\n",
        "import plotly.offline as py\n",
        "import plotly.graph_objs as go\n",
        "py.init_notebook_mode(connected=True)\n",
        "\n",
        "waste = base['waste']\n",
        "rank = base['rank']\n",
        "\n",
        "df_fitbit_activity = pd.DataFrame(\n",
        "    {'waste': waste, 'rank': rank})\n",
        "df_fitbit_activity.head()"
      ],
      "execution_count": 62,
      "outputs": [
        {
          "output_type": "display_data",
          "data": {
            "text/html": [
              "        <script type=\"text/javascript\">\n",
              "        window.PlotlyConfig = {MathJaxConfig: 'local'};\n",
              "        if (window.MathJax) {MathJax.Hub.Config({SVG: {font: \"STIX-Web\"}});}\n",
              "        if (typeof require !== 'undefined') {\n",
              "        require.undef(\"plotly\");\n",
              "        requirejs.config({\n",
              "            paths: {\n",
              "                'plotly': ['https://cdn.plot.ly/plotly-latest.min']\n",
              "            }\n",
              "        });\n",
              "        require(['plotly'], function(Plotly) {\n",
              "            window._Plotly = Plotly;\n",
              "        });\n",
              "        }\n",
              "        </script>\n",
              "        "
            ]
          },
          "metadata": {
            "tags": []
          }
        },
        {
          "output_type": "execute_result",
          "data": {
            "text/html": [
              "<div>\n",
              "<style scoped>\n",
              "    .dataframe tbody tr th:only-of-type {\n",
              "        vertical-align: middle;\n",
              "    }\n",
              "\n",
              "    .dataframe tbody tr th {\n",
              "        vertical-align: top;\n",
              "    }\n",
              "\n",
              "    .dataframe thead th {\n",
              "        text-align: right;\n",
              "    }\n",
              "</style>\n",
              "<table border=\"1\" class=\"dataframe\">\n",
              "  <thead>\n",
              "    <tr style=\"text-align: right;\">\n",
              "      <th></th>\n",
              "      <th>waste</th>\n",
              "      <th>rank</th>\n",
              "    </tr>\n",
              "  </thead>\n",
              "  <tbody>\n",
              "    <tr>\n",
              "      <th>0</th>\n",
              "      <td>build</td>\n",
              "      <td>1</td>\n",
              "    </tr>\n",
              "    <tr>\n",
              "      <th>1</th>\n",
              "      <td>mismanaging</td>\n",
              "      <td>1</td>\n",
              "    </tr>\n",
              "    <tr>\n",
              "      <th>2</th>\n",
              "      <td>rework</td>\n",
              "      <td>1</td>\n",
              "    </tr>\n",
              "    <tr>\n",
              "      <th>3</th>\n",
              "      <td>unnecessarily</td>\n",
              "      <td>3</td>\n",
              "    </tr>\n",
              "    <tr>\n",
              "      <th>4</th>\n",
              "      <td>extraneous</td>\n",
              "      <td>1</td>\n",
              "    </tr>\n",
              "  </tbody>\n",
              "</table>\n",
              "</div>"
            ],
            "text/plain": [
              "           waste  rank\n",
              "0          build     1\n",
              "1    mismanaging     1\n",
              "2         rework     1\n",
              "3  unnecessarily     3\n",
              "4     extraneous     1"
            ]
          },
          "metadata": {
            "tags": []
          },
          "execution_count": 62
        }
      ]
    },
    {
      "cell_type": "code",
      "metadata": {
        "id": "4PlAUtr1XBRT",
        "colab_type": "code",
        "colab": {
          "base_uri": "https://localhost:8080/",
          "height": 170
        },
        "outputId": "c8986f9a-7676-4032-9ee2-8cecd0c9615b"
      },
      "source": [
        "df_fitbit_activity.info()"
      ],
      "execution_count": 63,
      "outputs": [
        {
          "output_type": "stream",
          "text": [
            "<class 'pandas.core.frame.DataFrame'>\n",
            "RangeIndex: 674 entries, 0 to 673\n",
            "Data columns (total 2 columns):\n",
            " #   Column  Non-Null Count  Dtype \n",
            "---  ------  --------------  ----- \n",
            " 0   waste   674 non-null    object\n",
            " 1   rank    674 non-null    int64 \n",
            "dtypes: int64(1), object(1)\n",
            "memory usage: 10.7+ KB\n"
          ],
          "name": "stdout"
        }
      ]
    },
    {
      "cell_type": "code",
      "metadata": {
        "id": "Q5XJYX0WXDEI",
        "colab_type": "code",
        "colab": {
          "base_uri": "https://localhost:8080/",
          "height": 34
        },
        "outputId": "bde73526-9831-481a-da2e-9941eff9ed31"
      },
      "source": [
        "df_fitbit_activity.index"
      ],
      "execution_count": 169,
      "outputs": [
        {
          "output_type": "execute_result",
          "data": {
            "text/plain": [
              "RangeIndex(start=0, stop=674, step=1)"
            ]
          },
          "metadata": {
            "tags": []
          },
          "execution_count": 169
        }
      ]
    },
    {
      "cell_type": "code",
      "metadata": {
        "id": "LHCIRzyJXOoy",
        "colab_type": "code",
        "colab": {
          "base_uri": "https://localhost:8080/",
          "height": 662
        },
        "outputId": "fe3751b8-9c7b-41b8-9cc8-a424a962ce10"
      },
      "source": [
        "# Nunca observei = 0\n",
        "# Observo raramente = 1\t\n",
        "# Observo ocasionalmente = 2\t\n",
        "# Observo frequência = 3\n",
        "\n",
        "import pandas as pd\n",
        "import sqlalchemy\n",
        "import matplotlib.pyplot as plt \n",
        "plt.style.use(\"ggplot\")\n",
        "from numpy.random import random\n",
        "\n",
        "df = df_fitbit_activity\n",
        "df_fitbit_activity.hist(column=\"waste\",by=\"rank\",bins=17, figsize=(14,10),  linestyle='dashed')\n",
        "\n",
        "#colors = ['b', 'y', 'm', 'r']\n",
        "#lo = plt.scatter(random(10), random(10), marker='o', color=colors[3])\n",
        "#ll = plt.scatter(random(10), random(10), marker='o', color=colors[3])\n",
        "#l  = plt.scatter(random(10), random(10), marker='o', color=colors[3])\n",
        "#a  = plt.scatter(random(10), random(10), marker='o', color=colors[3])\n",
        "#plt.legend((lo, ll, l, a),\n",
        "#           ('Nunca observei = 0','Observo raramente = 1','Observo ocasionalmente = 2','Observo frequência = 3'),\n",
        "#           scatterpoints=1,\n",
        "#           loc='upper center',\n",
        "#           ncol=2,\n",
        "#           fontsize=10)\n",
        "plt.show()"
      ],
      "execution_count": 64,
      "outputs": [
        {
          "output_type": "display_data",
          "data": {
            "image/png": "[encoded data removed]",
            "text/plain": [
              "<Figure size 1008x720 with 4 Axes>"
            ]
          },
          "metadata": {
            "tags": []
          }
        }
      ]
    },
    {
      "cell_type": "markdown",
      "metadata": {
        "id": "z9jillTSf21D",
        "colab_type": "text"
      },
      "source": [
        "O gráfico de BoxPlot se caracteriza como um retângulo que pode ser horizontal ou vertical com duas retas na parte superior e inferior.\n",
        "\n",
        "O retângulo é formado por três Quartis que dividem o dados em quatro rols com 25% dos dados cada.\n",
        "\n",
        "Inicialmente o conjunto de dados é dividido ao meio através do cálculo da mediana dos valores, que será o valor do Quartil 2 representado pela linha ao meio do retângulo.\n",
        "\n",
        "Com os dados divididos em duas partes o Quartil 1 é representado pela linha da borda inferior do retângulo que representa o valor médio dos 25% dos dados. E o Quartil 3 é representado pela linha da borda superior do retângulo que representa o valor médio dos 75% dos dados."
      ]
    },
    {
      "cell_type": "code",
      "metadata": {
        "id": "uUxlW5Cgdyd5",
        "colab_type": "code",
        "colab": {
          "base_uri": "https://localhost:8080/",
          "height": 399
        },
        "outputId": "a5d74fb1-3b1b-479d-db73-26919253b424"
      },
      "source": [
        "%matplotlib inline\n",
        "import seaborn as sns\n",
        "plt.style.use(\"ggplot\")\n",
        "\n",
        "sns.set(style=\"whitegrid\", color_codes=True)\n",
        "peso = resumo_respostas\n",
        "plt.xticks(rotation=90)\n",
        "sns.boxplot(data=peso);"
      ],
      "execution_count": 65,
      "outputs": [
        {
          "output_type": "display_data",
          "data": {
            "image/png": "[encoded data removed]",
            "text/plain": [
              "<Figure size 432x288 with 1 Axes>"
            ]
          },
          "metadata": {
            "tags": []
          }
        }
      ]
    },
    {
      "cell_type": "code",
      "metadata": {
        "id": "Ax3K2gh-gPup",
        "colab_type": "code",
        "colab": {
          "base_uri": "https://localhost:8080/",
          "height": 1000
        },
        "outputId": "42e64b00-d317-4d60-991a-47b1c9ac9aec"
      },
      "source": [
        "# Gráfico de dispersão com os atributos par a par de toda a base de dados\n",
        "\n",
        "%matplotlib inline\n",
        "import seaborn as sns\n",
        "plt.style.use(\"ggplot\")\n",
        "\n",
        "peso = resumo_respostas\n",
        "sns.pairplot(peso, hue=\"pergunta\");\n"
      ],
      "execution_count": 66,
      "outputs": [
        {
          "output_type": "stream",
          "text": [
            "/usr/local/lib/python3.6/dist-packages/seaborn/distributions.py:283: UserWarning:\n",
            "\n",
            "Data must have variance to compute a kernel density estimate.\n",
            "\n",
            "/usr/local/lib/python3.6/dist-packages/seaborn/distributions.py:283: UserWarning:\n",
            "\n",
            "Data must have variance to compute a kernel density estimate.\n",
            "\n",
            "/usr/local/lib/python3.6/dist-packages/seaborn/distributions.py:283: UserWarning:\n",
            "\n",
            "Data must have variance to compute a kernel density estimate.\n",
            "\n",
            "/usr/local/lib/python3.6/dist-packages/seaborn/distributions.py:283: UserWarning:\n",
            "\n",
            "Data must have variance to compute a kernel density estimate.\n",
            "\n",
            "/usr/local/lib/python3.6/dist-packages/seaborn/distributions.py:283: UserWarning:\n",
            "\n",
            "Data must have variance to compute a kernel density estimate.\n",
            "\n",
            "/usr/local/lib/python3.6/dist-packages/seaborn/distributions.py:283: UserWarning:\n",
            "\n",
            "Data must have variance to compute a kernel density estimate.\n",
            "\n",
            "/usr/local/lib/python3.6/dist-packages/seaborn/distributions.py:283: UserWarning:\n",
            "\n",
            "Data must have variance to compute a kernel density estimate.\n",
            "\n",
            "/usr/local/lib/python3.6/dist-packages/seaborn/distributions.py:283: UserWarning:\n",
            "\n",
            "Data must have variance to compute a kernel density estimate.\n",
            "\n",
            "/usr/local/lib/python3.6/dist-packages/seaborn/distributions.py:283: UserWarning:\n",
            "\n",
            "Data must have variance to compute a kernel density estimate.\n",
            "\n",
            "/usr/local/lib/python3.6/dist-packages/seaborn/distributions.py:283: UserWarning:\n",
            "\n",
            "Data must have variance to compute a kernel density estimate.\n",
            "\n",
            "/usr/local/lib/python3.6/dist-packages/seaborn/distributions.py:283: UserWarning:\n",
            "\n",
            "Data must have variance to compute a kernel density estimate.\n",
            "\n",
            "/usr/local/lib/python3.6/dist-packages/seaborn/distributions.py:283: UserWarning:\n",
            "\n",
            "Data must have variance to compute a kernel density estimate.\n",
            "\n",
            "/usr/local/lib/python3.6/dist-packages/seaborn/distributions.py:283: UserWarning:\n",
            "\n",
            "Data must have variance to compute a kernel density estimate.\n",
            "\n",
            "/usr/local/lib/python3.6/dist-packages/seaborn/distributions.py:283: UserWarning:\n",
            "\n",
            "Data must have variance to compute a kernel density estimate.\n",
            "\n",
            "/usr/local/lib/python3.6/dist-packages/seaborn/distributions.py:283: UserWarning:\n",
            "\n",
            "Data must have variance to compute a kernel density estimate.\n",
            "\n",
            "/usr/local/lib/python3.6/dist-packages/seaborn/distributions.py:283: UserWarning:\n",
            "\n",
            "Data must have variance to compute a kernel density estimate.\n",
            "\n",
            "/usr/local/lib/python3.6/dist-packages/seaborn/distributions.py:283: UserWarning:\n",
            "\n",
            "Data must have variance to compute a kernel density estimate.\n",
            "\n",
            "/usr/local/lib/python3.6/dist-packages/seaborn/distributions.py:283: UserWarning:\n",
            "\n",
            "Data must have variance to compute a kernel density estimate.\n",
            "\n",
            "/usr/local/lib/python3.6/dist-packages/seaborn/distributions.py:283: UserWarning:\n",
            "\n",
            "Data must have variance to compute a kernel density estimate.\n",
            "\n",
            "/usr/local/lib/python3.6/dist-packages/seaborn/distributions.py:283: UserWarning:\n",
            "\n",
            "Data must have variance to compute a kernel density estimate.\n",
            "\n",
            "/usr/local/lib/python3.6/dist-packages/seaborn/distributions.py:283: UserWarning:\n",
            "\n",
            "Data must have variance to compute a kernel density estimate.\n",
            "\n",
            "/usr/local/lib/python3.6/dist-packages/seaborn/distributions.py:283: UserWarning:\n",
            "\n",
            "Data must have variance to compute a kernel density estimate.\n",
            "\n",
            "/usr/local/lib/python3.6/dist-packages/seaborn/distributions.py:283: UserWarning:\n",
            "\n",
            "Data must have variance to compute a kernel density estimate.\n",
            "\n",
            "/usr/local/lib/python3.6/dist-packages/seaborn/distributions.py:283: UserWarning:\n",
            "\n",
            "Data must have variance to compute a kernel density estimate.\n",
            "\n",
            "/usr/local/lib/python3.6/dist-packages/seaborn/distributions.py:283: UserWarning:\n",
            "\n",
            "Data must have variance to compute a kernel density estimate.\n",
            "\n",
            "/usr/local/lib/python3.6/dist-packages/seaborn/distributions.py:283: UserWarning:\n",
            "\n",
            "Data must have variance to compute a kernel density estimate.\n",
            "\n",
            "/usr/local/lib/python3.6/dist-packages/seaborn/distributions.py:283: UserWarning:\n",
            "\n",
            "Data must have variance to compute a kernel density estimate.\n",
            "\n",
            "/usr/local/lib/python3.6/dist-packages/seaborn/distributions.py:283: UserWarning:\n",
            "\n",
            "Data must have variance to compute a kernel density estimate.\n",
            "\n",
            "/usr/local/lib/python3.6/dist-packages/seaborn/distributions.py:283: UserWarning:\n",
            "\n",
            "Data must have variance to compute a kernel density estimate.\n",
            "\n",
            "/usr/local/lib/python3.6/dist-packages/seaborn/distributions.py:283: UserWarning:\n",
            "\n",
            "Data must have variance to compute a kernel density estimate.\n",
            "\n",
            "/usr/local/lib/python3.6/dist-packages/seaborn/distributions.py:283: UserWarning:\n",
            "\n",
            "Data must have variance to compute a kernel density estimate.\n",
            "\n",
            "/usr/local/lib/python3.6/dist-packages/seaborn/distributions.py:283: UserWarning:\n",
            "\n",
            "Data must have variance to compute a kernel density estimate.\n",
            "\n",
            "/usr/local/lib/python3.6/dist-packages/seaborn/distributions.py:283: UserWarning:\n",
            "\n",
            "Data must have variance to compute a kernel density estimate.\n",
            "\n",
            "/usr/local/lib/python3.6/dist-packages/seaborn/distributions.py:283: UserWarning:\n",
            "\n",
            "Data must have variance to compute a kernel density estimate.\n",
            "\n",
            "/usr/local/lib/python3.6/dist-packages/seaborn/distributions.py:283: UserWarning:\n",
            "\n",
            "Data must have variance to compute a kernel density estimate.\n",
            "\n",
            "/usr/local/lib/python3.6/dist-packages/seaborn/distributions.py:283: UserWarning:\n",
            "\n",
            "Data must have variance to compute a kernel density estimate.\n",
            "\n"
          ],
          "name": "stderr"
        },
        {
          "output_type": "display_data",
          "data": {
            "image/png": "[encoded data removed]",
            "text/plain": [
              "<Figure size 835.975x720 with 20 Axes>"
            ]
          },
          "metadata": {
            "tags": []
          }
        }
      ]
    },
    {
      "cell_type": "code",
      "metadata": {
        "id": "zqSw-x9Wok5o",
        "colab_type": "code",
        "colab": {
          "base_uri": "https://localhost:8080/",
          "height": 513
        },
        "outputId": "82c9e21c-47ab-4fcc-e992-be830058414d"
      },
      "source": [
        "!pip install plotly\n",
        "!pip install chart_studio\n",
        "!pip install researchpy"
      ],
      "execution_count": 68,
      "outputs": [
        {
          "output_type": "stream",
          "text": [
            "Requirement already satisfied: plotly in /usr/local/lib/python3.6/dist-packages (4.4.1)\n",
            "Requirement already satisfied: six in /usr/local/lib/python3.6/dist-packages (from plotly) (1.15.0)\n",
            "Requirement already satisfied: retrying>=1.3.3 in /usr/local/lib/python3.6/dist-packages (from plotly) (1.3.3)\n",
            "Collecting chart_studio\n",
            "\u001b[?25l  Downloading https://files.pythonhosted.org/packages/ca/ce/330794a6b6ca4b9182c38fc69dd2a9cbff60fd49421cb8648ee5fee352dc/chart_studio-1.1.0-py3-none-any.whl (64kB)\n",
            "\u001b[K     |████████████████████████████████| 71kB 2.0MB/s \n",
            "\u001b[?25hRequirement already satisfied: retrying>=1.3.3 in /usr/local/lib/python3.6/dist-packages (from chart_studio) (1.3.3)\n",
            "Requirement already satisfied: six in /usr/local/lib/python3.6/dist-packages (from chart_studio) (1.15.0)\n",
            "Requirement already satisfied: requests in /usr/local/lib/python3.6/dist-packages (from chart_studio) (2.23.0)\n",
            "Requirement already satisfied: plotly in /usr/local/lib/python3.6/dist-packages (from chart_studio) (4.4.1)\n",
            "Requirement already satisfied: urllib3!=1.25.0,!=1.25.1,<1.26,>=1.21.1 in /usr/local/lib/python3.6/dist-packages (from requests->chart_studio) (1.24.3)\n",
            "Requirement already satisfied: certifi>=2017.4.17 in /usr/local/lib/python3.6/dist-packages (from requests->chart_studio) (2020.6.20)\n",
            "Requirement already satisfied: idna<3,>=2.5 in /usr/local/lib/python3.6/dist-packages (from requests->chart_studio) (2.10)\n",
            "Requirement already satisfied: chardet<4,>=3.0.2 in /usr/local/lib/python3.6/dist-packages (from requests->chart_studio) (3.0.4)\n",
            "Installing collected packages: chart-studio\n",
            "Successfully installed chart-studio-1.1.0\n",
            "Collecting researchpy\n",
            "  Downloading https://files.pythonhosted.org/packages/4b/a3/b16ea25a5416f7c35824b2fc3ee1cdc9f9d8ab6d9fc4119679504d43b8a8/researchpy-0.2.3-py3-none-any.whl\n",
            "Requirement already satisfied: pandas in /usr/local/lib/python3.6/dist-packages (from researchpy) (1.0.5)\n",
            "Requirement already satisfied: statsmodels in /usr/local/lib/python3.6/dist-packages (from researchpy) (0.10.2)\n",
            "Requirement already satisfied: numpy in /usr/local/lib/python3.6/dist-packages (from researchpy) (1.18.5)\n",
            "Requirement already satisfied: scipy in /usr/local/lib/python3.6/dist-packages (from researchpy) (1.4.1)\n",
            "Requirement already satisfied: pytz>=2017.2 in /usr/local/lib/python3.6/dist-packages (from pandas->researchpy) (2018.9)\n",
            "Requirement already satisfied: python-dateutil>=2.6.1 in /usr/local/lib/python3.6/dist-packages (from pandas->researchpy) (2.8.1)\n",
            "Requirement already satisfied: patsy>=0.4.0 in /usr/local/lib/python3.6/dist-packages (from statsmodels->researchpy) (0.5.1)\n",
            "Requirement already satisfied: six>=1.5 in /usr/local/lib/python3.6/dist-packages (from python-dateutil>=2.6.1->pandas->researchpy) (1.15.0)\n",
            "Installing collected packages: researchpy\n",
            "Successfully installed researchpy-0.2.3\n"
          ],
          "name": "stdout"
        }
      ]
    },
    {
      "cell_type": "markdown",
      "metadata": {
        "id": "08QBxXf50yuV",
        "colab_type": "text"
      },
      "source": [
        "O **teste T independente** é um teste paramétrico usado para testar uma diferença estatisticamente significativa nas médias entre 2 grupos. Como acontece com todos os testes paramétricos, existem certas condições que precisam ser atendidas para que os resultados do teste sejam considerados confiáveis."
      ]
    },
    {
      "cell_type": "code",
      "metadata": {
        "id": "fJC1bRrHjgjS",
        "colab_type": "code",
        "colab": {
          "base_uri": "https://localhost:8080/",
          "height": 359
        },
        "outputId": "bf76bfcd-c0b9-43cf-a7b4-5dc388f67fe8"
      },
      "source": [
        "import pandas as pd\n",
        "import researchpy as rp\n",
        "import scipy.stats as stats\n",
        "\n",
        "df = pd.read_csv('rank.csv')\n",
        "df.head(10)"
      ],
      "execution_count": 69,
      "outputs": [
        {
          "output_type": "execute_result",
          "data": {
            "text/html": [
              "<div>\n",
              "<style scoped>\n",
              "    .dataframe tbody tr th:only-of-type {\n",
              "        vertical-align: middle;\n",
              "    }\n",
              "\n",
              "    .dataframe tbody tr th {\n",
              "        vertical-align: top;\n",
              "    }\n",
              "\n",
              "    .dataframe thead th {\n",
              "        text-align: right;\n",
              "    }\n",
              "</style>\n",
              "<table border=\"1\" class=\"dataframe\">\n",
              "  <thead>\n",
              "    <tr style=\"text-align: right;\">\n",
              "      <th></th>\n",
              "      <th>waste</th>\n",
              "      <th>rank</th>\n",
              "      <th>candidate</th>\n",
              "      <th>State</th>\n",
              "    </tr>\n",
              "  </thead>\n",
              "  <tbody>\n",
              "    <tr>\n",
              "      <th>0</th>\n",
              "      <td>build</td>\n",
              "      <td>1</td>\n",
              "      <td>1</td>\n",
              "      <td>PE</td>\n",
              "    </tr>\n",
              "    <tr>\n",
              "      <th>1</th>\n",
              "      <td>mismanaging</td>\n",
              "      <td>1</td>\n",
              "      <td>1</td>\n",
              "      <td>PE</td>\n",
              "    </tr>\n",
              "    <tr>\n",
              "      <th>2</th>\n",
              "      <td>rework</td>\n",
              "      <td>1</td>\n",
              "      <td>1</td>\n",
              "      <td>PE</td>\n",
              "    </tr>\n",
              "    <tr>\n",
              "      <th>3</th>\n",
              "      <td>unnecessarily</td>\n",
              "      <td>3</td>\n",
              "      <td>1</td>\n",
              "      <td>PE</td>\n",
              "    </tr>\n",
              "    <tr>\n",
              "      <th>4</th>\n",
              "      <td>extraneous</td>\n",
              "      <td>1</td>\n",
              "      <td>1</td>\n",
              "      <td>PE</td>\n",
              "    </tr>\n",
              "    <tr>\n",
              "      <th>5</th>\n",
              "      <td>psychological</td>\n",
              "      <td>0</td>\n",
              "      <td>1</td>\n",
              "      <td>PE</td>\n",
              "    </tr>\n",
              "    <tr>\n",
              "      <th>6</th>\n",
              "      <td>waiting</td>\n",
              "      <td>0</td>\n",
              "      <td>1</td>\n",
              "      <td>PE</td>\n",
              "    </tr>\n",
              "    <tr>\n",
              "      <th>7</th>\n",
              "      <td>knowledge</td>\n",
              "      <td>2</td>\n",
              "      <td>1</td>\n",
              "      <td>PE</td>\n",
              "    </tr>\n",
              "    <tr>\n",
              "      <th>8</th>\n",
              "      <td>ineffective</td>\n",
              "      <td>1</td>\n",
              "      <td>1</td>\n",
              "      <td>PE</td>\n",
              "    </tr>\n",
              "    <tr>\n",
              "      <th>9</th>\n",
              "      <td>build</td>\n",
              "      <td>1</td>\n",
              "      <td>2</td>\n",
              "      <td>PE</td>\n",
              "    </tr>\n",
              "  </tbody>\n",
              "</table>\n",
              "</div>"
            ],
            "text/plain": [
              "           waste  rank  candidate State\n",
              "0          build     1          1   PE \n",
              "1    mismanaging     1          1   PE \n",
              "2         rework     1          1   PE \n",
              "3  unnecessarily     3          1   PE \n",
              "4     extraneous     1          1   PE \n",
              "5  psychological     0          1   PE \n",
              "6        waiting     0          1   PE \n",
              "7      knowledge     2          1   PE \n",
              "8    ineffective     1          1   PE \n",
              "9          build     1          2   PE "
            ]
          },
          "metadata": {
            "tags": []
          },
          "execution_count": 69
        }
      ]
    },
    {
      "cell_type": "code",
      "metadata": {
        "id": "e0OJfe81sWik",
        "colab_type": "code",
        "colab": {
          "base_uri": "https://localhost:8080/",
          "height": 85
        },
        "outputId": "004bc243-4249-44d0-f96c-b0925bc457f8"
      },
      "source": [
        "summary, results = rp.ttest(group1= df['rank'][df['waste'] == 'build'], group1_name= \"build\",\n",
        "                            group2= df['rank'][df['waste'] == 'mismanaging'], group2_name= \"mismanaging\")\n",
        "                            \n",
        "print(summary)\n"
      ],
      "execution_count": 70,
      "outputs": [
        {
          "output_type": "stream",
          "text": [
            "      Variable      N      Mean        SD        SE  95% Conf.  Interval\n",
            "0        build   75.0  1.600000  0.972598  0.112306   1.376226  1.823774\n",
            "1  mismanaging   75.0  2.026667  0.929594  0.107340   1.812787  2.240547\n",
            "2     combined  150.0  1.813333  0.972002  0.079364   1.656510  1.970157\n"
          ],
          "name": "stdout"
        }
      ]
    },
    {
      "cell_type": "code",
      "metadata": {
        "id": "lmBwkfsHwXNP",
        "colab_type": "code",
        "colab": {
          "base_uri": "https://localhost:8080/",
          "height": 204
        },
        "outputId": "f202534b-2fee-4189-c6b2-70d46ebdf02d"
      },
      "source": [
        "print(results)"
      ],
      "execution_count": 71,
      "outputs": [
        {
          "output_type": "stream",
          "text": [
            "                    Independent t-test   results\n",
            "0  Difference (build - mismanaging) =    -0.4267\n",
            "1                Degrees of freedom =   148.0000\n",
            "2                                 t =    -2.7464\n",
            "3             Two side test p value =     0.0068\n",
            "4            Difference < 0 p value =     0.0034\n",
            "5            Difference > 0 p value =     0.9966\n",
            "6                         Cohen's d =    -0.4485\n",
            "7                         Hedge's g =    -0.4462\n",
            "8                     Glass's delta =    -0.4387\n",
            "9                                 r =     0.2202\n"
          ],
          "name": "stdout"
        }
      ]
    }
  ]
}