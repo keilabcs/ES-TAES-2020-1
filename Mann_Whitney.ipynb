{
  "nbformat": 4,
  "nbformat_minor": 0,
  "metadata": {
    "colab": {
      "name": "Mann-Whitney.ipynb",
      "provenance": [],
      "collapsed_sections": [],
      "authorship_tag": "ABX9TyO3FaKAXaWdUYm2tl1tjubx",
      "include_colab_link": true
    },
    "kernelspec": {
      "name": "python3",
      "display_name": "Python 3"
    }
  },
  "cells": [
    {
      "cell_type": "markdown",
      "metadata": {
        "id": "view-in-github",
        "colab_type": "text"
      },
      "source": [
        "<a href=\"https://colab.research.google.com/github/keilabcs/ES-TAES-2020-1/blob/master/Mann_Whitney.ipynb\" target=\"_parent\"><img src=\"https://colab.research.google.com/assets/colab-badge.svg\" alt=\"Open In Colab\"/></a>"
      ]
    },
    {
      "cell_type": "markdown",
      "metadata": {
        "id": "QQmaXB2lL94-",
        "colab_type": "text"
      },
      "source": [
        "###Universidade Federal de Pernambuco\n",
        "#### Pós-Graduação em Ciências da Computação - Cin/UFPE\n",
        "\n",
        "Discentes\n",
        "\n",
        "*   Keila Barbosa\n",
        "*   Denini Gabriel\n",
        "*   Irvin Bezerra\n",
        "\n",
        "------------------------------------------------------------------\n",
        "\n",
        "### Teste de normalidade dos dados\n",
        "\n",
        "Um ponto de decisão importante ao trabalhar com uma amostra de dados é usar métodos estatísticos paramétricos ou não paramétricos.\n",
        "\n",
        "Os métodos estatísticos paramétricos assumem que os dados têm uma distribuição conhecida e específica, geralmente uma distribuição Gaussiana. Se uma amostra de dados não for gaussiana, as suposições dos testes estatísticos paramétricos são violadas e métodos estatísticos não paramétricos devem ser usados.\n",
        "\n",
        "Existem várias técnicas que você pode usar para verificar se sua amostra de dados se desvia de uma distribuição gaussiana, chamados de testes de normalidade.\n",
        "\n",
        "Verificar se a amostra de dados é gaussiana ou suficientemente semelhante a gaussiana para usar as técnicas padrão, ou suficientemente não gaussiana para usar métodos estatísticos não paramétricos.\n",
        "\n",
        "https://www.inf.ufsc.br/~andre.zibetti/probabilidade/normal.html"
      ]
    },
    {
      "cell_type": "code",
      "metadata": {
        "id": "ZqbttYzkLewG",
        "colab_type": "code",
        "colab": {}
      },
      "source": [
        "If Data Is Gaussian:\n",
        "\tUse Parametric Statistical Methods\n",
        "Else:\n",
        "\tUse Nonparametric Statistical Methods"
      ],
      "execution_count": null,
      "outputs": []
    },
    {
      "cell_type": "markdown",
      "metadata": {
        "id": "31QiUS2r6wwD",
        "colab_type": "text"
      },
      "source": [
        "Importando os módulos"
      ]
    },
    {
      "cell_type": "code",
      "metadata": {
        "id": "bZDOaXJA6xPL",
        "colab_type": "code",
        "colab": {
          "base_uri": "https://localhost:8080/",
          "height": 71
        },
        "outputId": "c5ce8158-9600-4e2e-b085-96cd91ebe3b3"
      },
      "source": [
        "from numpy.random import randn\n",
        "from numpy import mean\n",
        "from numpy import std\n",
        "import csv, sys\n",
        "from matplotlib import pyplot\n",
        "import glob\n",
        "from google.colab import files\n",
        "import pandas as pd\n",
        "import matplotlib.pyplot as plt\n",
        "from matplotlib.patches import Rectangle\n",
        "import seaborn as sns\n",
        "from statsmodels.graphics.gofplots import qqplot"
      ],
      "execution_count": 2,
      "outputs": [
        {
          "output_type": "stream",
          "text": [
            "/usr/local/lib/python3.6/dist-packages/statsmodels/tools/_testing.py:19: FutureWarning: pandas.util.testing is deprecated. Use the functions in the public API at pandas.testing instead.\n",
            "  import pandas.util.testing as tm\n"
          ],
          "name": "stderr"
        }
      ]
    },
    {
      "cell_type": "markdown",
      "metadata": {
        "id": "KZ4fI9mR7EJs",
        "colab_type": "text"
      },
      "source": [
        "Leia o csv"
      ]
    },
    {
      "cell_type": "code",
      "metadata": {
        "id": "2Y4O3EZY6UCC",
        "colab_type": "code",
        "colab": {
          "resources": {
            "http://localhost:8080/nbextensions/google.colab/files.js": {
              "data": "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",
              "ok": true,
              "headers": [
                [
                  "content-type",
                  "application/javascript"
                ]
              ],
              "status": 200,
              "status_text": ""
            }
          },
          "base_uri": "https://localhost:8080/",
          "height": 72
        },
        "outputId": "a146bce2-f506-4af4-c0bc-5bc60173469c"
      },
      "source": [
        "uploaded = files.upload()"
      ],
      "execution_count": 5,
      "outputs": [
        {
          "output_type": "display_data",
          "data": {
            "text/html": [
              "\n",
              "     <input type=\"file\" id=\"files-5fa4581a-6cbc-4caf-b2a9-d29b6bcfc3db\" name=\"files[]\" multiple disabled\n",
              "        style=\"border:none\" />\n",
              "     <output id=\"result-5fa4581a-6cbc-4caf-b2a9-d29b6bcfc3db\">\n",
              "      Upload widget is only available when the cell has been executed in the\n",
              "      current browser session. Please rerun this cell to enable.\n",
              "      </output>\n",
              "      <script src=\"/nbextensions/google.colab/files.js\"></script> "
            ],
            "text/plain": [
              "<IPython.core.display.HTML object>"
            ]
          },
          "metadata": {
            "tags": []
          }
        },
        {
          "output_type": "stream",
          "text": [
            "Saving new_results.csv to new_results.csv\n"
          ],
          "name": "stdout"
        }
      ]
    },
    {
      "cell_type": "code",
      "metadata": {
        "id": "NArKrpj7DH_q",
        "colab_type": "code",
        "colab": {
          "base_uri": "https://localhost:8080/",
          "height": 34
        },
        "outputId": "4994bb1f-50d3-4d4e-dc7a-b790e4571f37"
      },
      "source": [
        "ls"
      ],
      "execution_count": 6,
      "outputs": [
        {
          "output_type": "stream",
          "text": [
            "new_results.csv  ranking.csv  \u001b[0m\u001b[01;34msample_data\u001b[0m/\n"
          ],
          "name": "stdout"
        }
      ]
    },
    {
      "cell_type": "code",
      "metadata": {
        "id": "p1ah0VSJGrPu",
        "colab_type": "code",
        "colab": {
          "base_uri": "https://localhost:8080/",
          "height": 255
        },
        "outputId": "651e8d4f-92b9-488c-c986-4b228ea161c8"
      },
      "source": [
        "data = pd.read_csv('new_results.csv')\n",
        "data.head()"
      ],
      "execution_count": 7,
      "outputs": [
        {
          "output_type": "execute_result",
          "data": {
            "text/html": [
              "<div>\n",
              "<style scoped>\n",
              "    .dataframe tbody tr th:only-of-type {\n",
              "        vertical-align: middle;\n",
              "    }\n",
              "\n",
              "    .dataframe tbody tr th {\n",
              "        vertical-align: top;\n",
              "    }\n",
              "\n",
              "    .dataframe thead th {\n",
              "        text-align: right;\n",
              "    }\n",
              "</style>\n",
              "<table border=\"1\" class=\"dataframe\">\n",
              "  <thead>\n",
              "    <tr style=\"text-align: right;\">\n",
              "      <th></th>\n",
              "      <th>build</th>\n",
              "      <th>mismanaging</th>\n",
              "      <th>rework</th>\n",
              "      <th>unnecessarily</th>\n",
              "      <th>extraneous</th>\n",
              "      <th>psychological</th>\n",
              "      <th>waiting</th>\n",
              "      <th>knowledge</th>\n",
              "      <th>ineffective</th>\n",
              "      <th>opiniao</th>\n",
              "      <th>estado</th>\n",
              "    </tr>\n",
              "  </thead>\n",
              "  <tbody>\n",
              "    <tr>\n",
              "      <th>0</th>\n",
              "      <td>3</td>\n",
              "      <td>3</td>\n",
              "      <td>3</td>\n",
              "      <td>1</td>\n",
              "      <td>3</td>\n",
              "      <td>0</td>\n",
              "      <td>0</td>\n",
              "      <td>2</td>\n",
              "      <td>3</td>\n",
              "      <td>NaN</td>\n",
              "      <td>Pernambuco</td>\n",
              "    </tr>\n",
              "    <tr>\n",
              "      <th>1</th>\n",
              "      <td>3</td>\n",
              "      <td>1</td>\n",
              "      <td>2</td>\n",
              "      <td>1</td>\n",
              "      <td>3</td>\n",
              "      <td>3</td>\n",
              "      <td>3</td>\n",
              "      <td>0</td>\n",
              "      <td>2</td>\n",
              "      <td>Falta de interesse naquilo que se está fazendo</td>\n",
              "      <td>Pernambuco</td>\n",
              "    </tr>\n",
              "    <tr>\n",
              "      <th>2</th>\n",
              "      <td>2</td>\n",
              "      <td>2</td>\n",
              "      <td>2</td>\n",
              "      <td>2</td>\n",
              "      <td>2</td>\n",
              "      <td>2</td>\n",
              "      <td>1</td>\n",
              "      <td>2</td>\n",
              "      <td>2</td>\n",
              "      <td>Prazos muita pequenos para tarefas muito compl...</td>\n",
              "      <td>Pernambuco</td>\n",
              "    </tr>\n",
              "    <tr>\n",
              "      <th>3</th>\n",
              "      <td>3</td>\n",
              "      <td>1</td>\n",
              "      <td>1</td>\n",
              "      <td>2</td>\n",
              "      <td>2</td>\n",
              "      <td>1</td>\n",
              "      <td>2</td>\n",
              "      <td>1</td>\n",
              "      <td>2</td>\n",
              "      <td>NaN</td>\n",
              "      <td>Pernambuco</td>\n",
              "    </tr>\n",
              "    <tr>\n",
              "      <th>4</th>\n",
              "      <td>2</td>\n",
              "      <td>3</td>\n",
              "      <td>3</td>\n",
              "      <td>3</td>\n",
              "      <td>3</td>\n",
              "      <td>3</td>\n",
              "      <td>2</td>\n",
              "      <td>3</td>\n",
              "      <td>3</td>\n",
              "      <td>NaN</td>\n",
              "      <td>Pernambuco</td>\n",
              "    </tr>\n",
              "  </tbody>\n",
              "</table>\n",
              "</div>"
            ],
            "text/plain": [
              "   build  ...      estado\n",
              "0      3  ...  Pernambuco\n",
              "1      3  ...  Pernambuco\n",
              "2      2  ...  Pernambuco\n",
              "3      3  ...  Pernambuco\n",
              "4      2  ...  Pernambuco\n",
              "\n",
              "[5 rows x 11 columns]"
            ]
          },
          "metadata": {
            "tags": []
          },
          "execution_count": 7
        }
      ]
    },
    {
      "cell_type": "code",
      "metadata": {
        "id": "xFfBiXLyHZSc",
        "colab_type": "code",
        "colab": {
          "base_uri": "https://localhost:8080/",
          "height": 34
        },
        "outputId": "4eb9df5a-2ec4-4fa3-906c-ad4655d08cc5"
      },
      "source": [
        "data = 5 * randn(100) + 50\n",
        "# summarize\n",
        "print('mean=%.3f stdv=%.3f' % (mean(data), std(data)))"
      ],
      "execution_count": 8,
      "outputs": [
        {
          "output_type": "stream",
          "text": [
            "mean=49.963 stdv=5.051\n"
          ],
          "name": "stdout"
        }
      ]
    },
    {
      "cell_type": "markdown",
      "metadata": {
        "id": "MahnL6tbQx0j",
        "colab_type": "text"
      },
      "source": [
        "### Análise descritiva dos dados\n",
        "\n",
        "Box-plot e Histograma da amostra ssimetria na distribuição dos dados."
      ]
    },
    {
      "cell_type": "code",
      "metadata": {
        "id": "KD-y9wkGKfat",
        "colab_type": "code",
        "colab": {
          "base_uri": "https://localhost:8080/",
          "height": 369
        },
        "outputId": "ea0e4aba-262a-4593-833c-238337135363"
      },
      "source": [
        "# Define o stilo para ggplot\n",
        "plt.style.use(\"ggplot\")\n",
        "\n",
        "# Cada plot terá o mesmo tamanho de figuras (10,5)\n",
        "fig, (ax1, ax2) = plt.subplots(1, 2, figsize=(10,5))\n",
        "\n",
        "# Creating plot \n",
        "plt.subplot(1, 2, 1)\n",
        "plt.boxplot(data) \n",
        "plt.title('Box-plot e Histograma da distribuição de uma amostra de dados')\n",
        "\n",
        "# Histogram plot\n",
        "plt.subplot(1, 2, 2)\n",
        "pyplot.hist(data)\n",
        "\n",
        "plt.xlabel(\"Compartimento\", fontsize=12)  \n",
        "plt.ylabel(\"] em cada compartimento\", fontsize=12)\n",
        "\n",
        "plt.tight_layout()\n",
        "pyplot.show()"
      ],
      "execution_count": 9,
      "outputs": [
        {
          "output_type": "display_data",
          "data": {
            "image/png": "[encoded data removed]",
            "text/plain": [
              "<Figure size 720x360 with 2 Axes>"
            ]
          },
          "metadata": {
            "tags": []
          }
        }
      ]
    },
    {
      "cell_type": "markdown",
      "metadata": {
        "id": "Du-YGgRpLA27",
        "colab_type": "text"
      },
      "source": [
        "Gráfico popular para verificar a distribuição de uma amostra de dados é o gráfico quantil-quantil, gráfico QQ ou gráfico QQ, para abreviar.\n",
        "\n",
        "Cada ponto de dados na amostra é emparelhado com um membro semelhante da distribuição idealizada na mesma distribuição cumulativa.\n",
        "\n",
        "Os pontos resultantes são plotados como um gráfico de dispersão com o valor idealizado no eixo x e a amostra de dados no eixo y.\n",
        "\n",
        "Gráfico QQ mostrando o gráfico de dispersão de pontos em uma linha diagonal, ajustando-se ao padrão diagonal esperado para uma amostra de uma distribuição gaussiana.\n",
        "\n",
        "Existem alguns pequenos desvios, especialmente na parte inferior do gráfico, o que é esperado dada a pequena amostra de dados."
      ]
    },
    {
      "cell_type": "code",
      "metadata": {
        "id": "vTiccVq6C8YS",
        "colab_type": "code",
        "colab": {
          "base_uri": "https://localhost:8080/",
          "height": 299
        },
        "outputId": "38a0f4ec-1111-4563-ee9e-2022fb283bee"
      },
      "source": [
        "sns.kdeplot (data, shade=True)\n",
        "plt.xlabel(\"Compartimento\", fontsize=12)  \n",
        "plt.ylabel(\"Número de observações em cada compartimento\", fontsize=12)\n",
        "plt.title(\"Distribuição Gaussiana\")"
      ],
      "execution_count": 53,
      "outputs": [
        {
          "output_type": "execute_result",
          "data": {
            "text/plain": [
              "Text(0.5, 1.0, 'Distribuições de probabilidade')"
            ]
          },
          "metadata": {
            "tags": []
          },
          "execution_count": 53
        },
        {
          "output_type": "display_data",
          "data": {
            "image/png": "[encoded data removed]",
            "text/plain": [
              "<Figure size 432x288 with 1 Axes>"
            ]
          },
          "metadata": {
            "tags": []
          }
        }
      ]
    },
    {
      "cell_type": "code",
      "metadata": {
        "id": "8RjTLvWfDXA-",
        "colab_type": "code",
        "colab": {
          "base_uri": "https://localhost:8080/",
          "height": 282
        },
        "outputId": "c8b22f02-e0ed-4ef5-9e39-d010535a1a44"
      },
      "source": [
        "# q-q plot\n",
        "qqplot(data, line='s')\n",
        "plt.xlabel(\"Quantis Gaussianos\", fontsize=12)  \n",
        "plt.ylabel(\"Quantis Amostrais\", fontsize=12)\n",
        "pyplot.show()"
      ],
      "execution_count": 54,
      "outputs": [
        {
          "output_type": "display_data",
          "data": {
            "image/png": "[encoded data removed]",
            "text/plain": [
              "<Figure size 432x288 with 1 Axes>"
            ]
          },
          "metadata": {
            "tags": []
          }
        }
      ]
    },
    {
      "cell_type": "markdown",
      "metadata": {
        "id": "-DpSvU1ENBNt",
        "colab_type": "text"
      },
      "source": [
        "Os testes assumem que a amostra foi retirada de uma distribuição gaussiana. \n",
        "Tecnicamente, isso é chamado de hipótese nula ou H0. \n",
        "Um nível de limite é escolhido chamado alfa, normalmente 5% (ou 0,05), que é usado para interpretar o valor p.\n",
        "\n",
        "*   p <= alfa : rejeita H0, não normal.\n",
        "*   p> alfa : falha ao rejeitar H0, normal.\n",
        "\n",
        "Isso significa que, em geral, estamos buscando resultados com um valor p maior para confirmar que nossa amostra foi provavelmente extraída de uma distribuição gaussiana.\n",
        "\n",
        "Um resultado acima de 5% não significa que a hipótese nula seja verdadeira. Isso significa que é muito provável, dadas as evidências disponíveis.\n"
      ]
    },
    {
      "cell_type": "code",
      "metadata": {
        "id": "7kEEkj8rNCov",
        "colab_type": "code",
        "colab": {
          "base_uri": "https://localhost:8080/",
          "height": 51
        },
        "outputId": "83ef9c38-c112-419d-9695-73be478a43c8"
      },
      "source": [
        "# Teste Shapiro-Wilk\n",
        "from scipy.stats import shapiro\n",
        "\n",
        "# Teste de normalidade\n",
        "stat, p = shapiro(data)\n",
        "print('Statistics=%.3f, p=%.3f' % (stat, p))\n",
        "\n",
        "# Interpretar\n",
        "alpha = 0.05\n",
        "if p > alpha:\n",
        "\tprint('A amostra parece gaussiana (falhar em rejeitar H0)')\n",
        "else:\n",
        "\tprint('A amostra não parece gaussiana(rejeitar H0)')"
      ],
      "execution_count": 55,
      "outputs": [
        {
          "output_type": "stream",
          "text": [
            "Statistics=0.993, p=0.887\n",
            "A amostra parece gaussiana (falhar em rejeitar H0)\n"
          ],
          "name": "stdout"
        }
      ]
    },
    {
      "cell_type": "markdown",
      "metadata": {
        "id": "i8pAS8mtRsi7",
        "colab_type": "text"
      },
      "source": [
        "O valor p é interpretado em relação a um alfa de 5% e descobre que o conjunto de dados de teste não se desvia significativamente do normal."
      ]
    },
    {
      "cell_type": "code",
      "metadata": {
        "id": "huvAfBZ7P2hZ",
        "colab_type": "code",
        "colab": {
          "base_uri": "https://localhost:8080/",
          "height": 51
        },
        "outputId": "20ee1c03-2a7a-4f74-e009-af6d9eebf30a"
      },
      "source": [
        "# Teste K ^ 2 de D'Agostino\n",
        "from scipy.stats import normaltest\n",
        "\n",
        "# Teste de normalidade\n",
        "stat, p = normaltest(data)\n",
        "print('Statistics=%.3f, p=%.3f' % (stat, p))\n",
        "\n",
        "# Interpretar\n",
        "alpha = 0.05\n",
        "if p > alpha:\n",
        "\tprint('A amostra parece gaussiana (falhar em rejeitar H0)')\n",
        "else:\n",
        "\tprint('A amostra não parece gaussiana(rejeitar H0)')"
      ],
      "execution_count": 56,
      "outputs": [
        {
          "output_type": "stream",
          "text": [
            "Statistics=1.023, p=0.600\n",
            "A amostra parece gaussiana (falhar em rejeitar H0)\n"
          ],
          "name": "stdout"
        }
      ]
    },
    {
      "cell_type": "markdown",
      "metadata": {
        "id": "TFQKvn_kSHuQ",
        "colab_type": "text"
      },
      "source": [
        "Teste Anderson-Darling"
      ]
    },
    {
      "cell_type": "code",
      "metadata": {
        "id": "J6PmrJl7SJEy",
        "colab_type": "code",
        "colab": {
          "base_uri": "https://localhost:8080/",
          "height": 119
        },
        "outputId": "963743a9-513c-4c45-c525-ee3ae192c23b"
      },
      "source": [
        "# Teste Anderson-Darling\n",
        "from scipy.stats import anderson\n",
        "\n",
        "# Gerar observações univariadas\n",
        "data = 5 * randn(100) + 50\n",
        "\n",
        "# Teste de normalidade\n",
        "result = anderson(data)\n",
        "print('Statistic: %.3f' % result.statistic)\n",
        "p = 0\n",
        "for i in range(len(result.critical_values)):\n",
        "\tsl, cv = result.significance_level[i], result.critical_values[i]\n",
        "\tif result.statistic < result.critical_values[i]:\n",
        "\t\tprint('%.3f: %.3f, Os dados parecem normais (falha ao rejeitar H0)' % (sl, cv))\n",
        "\telse:\n",
        "\t\tprint('%.3f: %.3f, Os dados não parecem normais (rejeitar H0)' % (sl, cv))"
      ],
      "execution_count": 57,
      "outputs": [
        {
          "output_type": "stream",
          "text": [
            "Statistic: 0.384\n",
            "15.000: 0.555, Os dados parecem normais (falha ao rejeitar H0)\n",
            "10.000: 0.632, Os dados parecem normais (falha ao rejeitar H0)\n",
            "5.000: 0.759, Os dados parecem normais (falha ao rejeitar H0)\n",
            "2.500: 0.885, Os dados parecem normais (falha ao rejeitar H0)\n",
            "1.000: 1.053, Os dados parecem normais (falha ao rejeitar H0)\n"
          ],
          "name": "stdout"
        }
      ]
    },
    {
      "cell_type": "code",
      "metadata": {
        "id": "owKiGyclk296",
        "colab_type": "code",
        "colab": {
          "base_uri": "https://localhost:8080/",
          "height": 299
        },
        "outputId": "3e1f1ac9-8f91-474d-f90d-0c4d65d51b0e"
      },
      "source": [
        "# Rank por Estados do Brasil\n",
        "\n",
        "plt.style.use(\"ggplot\")\n",
        "\n",
        "plt.xlabel(\"Estados do Brasil\", fontsize=12)  \n",
        "plt.ylabel(\"Quantitativos\", fontsize=12)\n",
        "plt.title('Histograma da Amostra por Estados do Brasil')\n",
        "\n",
        "grupos = ['PE', 'AL', 'PB', 'CE', 'SP', 'PR', 'SE', 'MG', 'BH']\n",
        "valores = [35, 24, 5, 5, 2, 2, 1, 1,1 ]\n",
        "plt.bar(grupos, valores)\n",
        "plt.show()"
      ],
      "execution_count": 58,
      "outputs": [
        {
          "output_type": "display_data",
          "data": {
            "image/png": "[encoded data removed]",
            "text/plain": [
              "<Figure size 432x288 with 1 Axes>"
            ]
          },
          "metadata": {
            "tags": []
          }
        }
      ]
    },
    {
      "cell_type": "markdown",
      "metadata": {
        "id": "WJyyFXtAKwz3",
        "colab_type": "text"
      },
      "source": [
        "# Análises dos Resultados\n",
        "\n",
        "Resultados T-testes"
      ]
    },
    {
      "cell_type": "code",
      "metadata": {
        "id": "cBD6xSodKz1n",
        "colab_type": "code",
        "colab": {
          "base_uri": "https://localhost:8080/",
          "height": 80
        },
        "outputId": "6ee8b3ba-7af6-44ca-feb4-239437dcc3b4"
      },
      "source": [
        "# Ranking Geral\n",
        "ranking = pd.read_csv('ranking.csv')\n",
        "ranking.head()"
      ],
      "execution_count": 65,
      "outputs": [
        {
          "output_type": "execute_result",
          "data": {
            "text/html": [
              "<div>\n",
              "<style scoped>\n",
              "    .dataframe tbody tr th:only-of-type {\n",
              "        vertical-align: middle;\n",
              "    }\n",
              "\n",
              "    .dataframe tbody tr th {\n",
              "        vertical-align: top;\n",
              "    }\n",
              "\n",
              "    .dataframe thead th {\n",
              "        text-align: right;\n",
              "    }\n",
              "</style>\n",
              "<table border=\"1\" class=\"dataframe\">\n",
              "  <thead>\n",
              "    <tr style=\"text-align: right;\">\n",
              "      <th></th>\n",
              "      <th>build</th>\n",
              "      <th>mismanaging</th>\n",
              "      <th>rework</th>\n",
              "      <th>unnecessarily</th>\n",
              "      <th>extraneous</th>\n",
              "      <th>psychological</th>\n",
              "      <th>waiting</th>\n",
              "      <th>knowledge</th>\n",
              "      <th>ineffective</th>\n",
              "    </tr>\n",
              "  </thead>\n",
              "  <tbody>\n",
              "    <tr>\n",
              "      <th>0</th>\n",
              "      <td>3</td>\n",
              "      <td>4</td>\n",
              "      <td>4</td>\n",
              "      <td>1</td>\n",
              "      <td>2</td>\n",
              "      <td>5</td>\n",
              "      <td>2</td>\n",
              "      <td>4</td>\n",
              "      <td>4</td>\n",
              "    </tr>\n",
              "  </tbody>\n",
              "</table>\n",
              "</div>"
            ],
            "text/plain": [
              "   build  mismanaging  rework  ...  waiting  knowledge  ineffective\n",
              "0      3            4       4  ...        2          4            4\n",
              "\n",
              "[1 rows x 9 columns]"
            ]
          },
          "metadata": {
            "tags": []
          },
          "execution_count": 65
        }
      ]
    },
    {
      "cell_type": "code",
      "metadata": {
        "id": "vZ09SVnKKz7_",
        "colab_type": "code",
        "colab": {
          "base_uri": "https://localhost:8080/",
          "height": 279
        },
        "outputId": "4c91abe9-8fe4-4d23-e089-43cdadcd9d7d"
      },
      "source": [
        "# Ranking Geral por desperdícios\n",
        "\n",
        "plt.style.use(\"ggplot\")\n",
        "\n",
        "plt.xlabel(\"Rank\", fontsize=10)  \n",
        "plt.ylabel(\"Desperdícios\", fontsize=10)\n",
        "#plt.title('Ranking Geral por desperdícios')\n",
        "\n",
        "grupos2 = ['Build', 'Mismanaging', 'Rework', 'Unnecessarily', 'Extraneous', 'Psychological', 'Waiting', 'Knowledge', 'Ineffective']\n",
        "valores2 = [3, 4, 4, 1, 2, 5, 2, 4, 4]\n",
        "\n",
        "plt.barh(grupos2, valores2)\n",
        "plt.yticks(rotation=45)\n",
        "\n",
        "plt.show()\n",
        "#plt.bar(grupos2, valores2)"
      ],
      "execution_count": 104,
      "outputs": [
        {
          "output_type": "display_data",
          "data": {
            "image/png": "[encoded data removed]",
            "text/plain": [
              "<Figure size 432x288 with 1 Axes>"
            ]
          },
          "metadata": {
            "tags": []
          }
        }
      ]
    },
    {
      "cell_type": "code",
      "metadata": {
        "id": "1XuCIe6lWjxt",
        "colab_type": "code",
        "colab": {
          "base_uri": "https://localhost:8080/",
          "height": 248
        },
        "outputId": "dc66e056-9fe6-413a-fcbc-0373a660d2c5"
      },
      "source": [
        "#Gráfico de Pizza\n",
        "\n",
        "# define o nível de separabilidade entre as partes, ordem do vetor representa as partes\n",
        "explode = (0, 0, 0, 0, 0, 0.2, 0, 0, 0) \n",
        "labels=grupos2\n",
        "\n",
        "#define o formato de visualização com saída em 1.1%%, sombras e a separação entre as partes\n",
        "plt.pie(valores2, labels=grupos2, autopct='%1.1f%%', shadow=True, explode=explode)\n",
        "\n",
        "# inseri a legenda e a localização da legenda.\n",
        "#plt.legend(labels, loc=3)\n",
        "\n",
        "#plt.title('Percentagem do Ranking Geral por desperdícios')\n",
        "\n",
        "# define que o gráfico será plotado em circulo\n",
        "plt.axis('equal')\n",
        "\n",
        "plt.show()"
      ],
      "execution_count": 91,
      "outputs": [
        {
          "output_type": "display_data",
          "data": {
            "image/png": "[encoded data removed]",
            "text/plain": [
              "<Figure size 432x288 with 1 Axes>"
            ]
          },
          "metadata": {
            "tags": []
          }
        }
      ]
    },
    {
      "cell_type": "code",
      "metadata": {
        "id": "_nqk3Niwedm4",
        "colab_type": "code",
        "colab": {
          "base_uri": "https://localhost:8080/",
          "height": 204
        },
        "outputId": "916bc2ec-03e9-43e6-f6bc-94b64bf2f8a9"
      },
      "source": [
        "# Resumo das Respostas\n",
        "resumo_respostas = pd.read_csv('resumo_respostas.csv')\n",
        "resumo_respostas.head()"
      ],
      "execution_count": 101,
      "outputs": [
        {
          "output_type": "execute_result",
          "data": {
            "text/html": [
              "<div>\n",
              "<style scoped>\n",
              "    .dataframe tbody tr th:only-of-type {\n",
              "        vertical-align: middle;\n",
              "    }\n",
              "\n",
              "    .dataframe tbody tr th {\n",
              "        vertical-align: top;\n",
              "    }\n",
              "\n",
              "    .dataframe thead th {\n",
              "        text-align: right;\n",
              "    }\n",
              "</style>\n",
              "<table border=\"1\" class=\"dataframe\">\n",
              "  <thead>\n",
              "    <tr style=\"text-align: right;\">\n",
              "      <th></th>\n",
              "      <th>pergunta</th>\n",
              "      <th>Nunca observei</th>\n",
              "      <th>Observo raramente</th>\n",
              "      <th>Observo ocasionalmente</th>\n",
              "      <th>frequência</th>\n",
              "    </tr>\n",
              "  </thead>\n",
              "  <tbody>\n",
              "    <tr>\n",
              "      <th>0</th>\n",
              "      <td>build</td>\n",
              "      <td>11</td>\n",
              "      <td>20</td>\n",
              "      <td>26</td>\n",
              "      <td>18</td>\n",
              "    </tr>\n",
              "    <tr>\n",
              "      <th>1</th>\n",
              "      <td>mismanaging</td>\n",
              "      <td>5</td>\n",
              "      <td>17</td>\n",
              "      <td>26</td>\n",
              "      <td>27</td>\n",
              "    </tr>\n",
              "    <tr>\n",
              "      <th>2</th>\n",
              "      <td>rework</td>\n",
              "      <td>6</td>\n",
              "      <td>10</td>\n",
              "      <td>34</td>\n",
              "      <td>25</td>\n",
              "    </tr>\n",
              "    <tr>\n",
              "      <th>3</th>\n",
              "      <td>unnecessarily</td>\n",
              "      <td>9</td>\n",
              "      <td>30</td>\n",
              "      <td>27</td>\n",
              "      <td>9</td>\n",
              "    </tr>\n",
              "    <tr>\n",
              "      <th>4</th>\n",
              "      <td>extraneous</td>\n",
              "      <td>2</td>\n",
              "      <td>14</td>\n",
              "      <td>22</td>\n",
              "      <td>37</td>\n",
              "    </tr>\n",
              "  </tbody>\n",
              "</table>\n",
              "</div>"
            ],
            "text/plain": [
              "        pergunta   Nunca observei  ...   Observo ocasionalmente   frequência\n",
              "0          build               11  ...                       26           18\n",
              "1    mismanaging                5  ...                       26           27\n",
              "2         rework                6  ...                       34           25\n",
              "3  unnecessarily                9  ...                       27            9\n",
              "4     extraneous                2  ...                       22           37\n",
              "\n",
              "[5 rows x 5 columns]"
            ]
          },
          "metadata": {
            "tags": []
          },
          "execution_count": 101
        }
      ]
    },
    {
      "cell_type": "code",
      "metadata": {
        "id": "bYiOIisGgxiw",
        "colab_type": "code",
        "colab": {
          "base_uri": "https://localhost:8080/",
          "height": 204
        },
        "outputId": "e585d13a-8d90-4fac-8c0e-873996479586"
      },
      "source": [
        "base = pd.read_csv('rank.csv')\n",
        "base.head()"
      ],
      "execution_count": 10,
      "outputs": [
        {
          "output_type": "execute_result",
          "data": {
            "text/html": [
              "<div>\n",
              "<style scoped>\n",
              "    .dataframe tbody tr th:only-of-type {\n",
              "        vertical-align: middle;\n",
              "    }\n",
              "\n",
              "    .dataframe tbody tr th {\n",
              "        vertical-align: top;\n",
              "    }\n",
              "\n",
              "    .dataframe thead th {\n",
              "        text-align: right;\n",
              "    }\n",
              "</style>\n",
              "<table border=\"1\" class=\"dataframe\">\n",
              "  <thead>\n",
              "    <tr style=\"text-align: right;\">\n",
              "      <th></th>\n",
              "      <th>waste</th>\n",
              "      <th>rank</th>\n",
              "      <th>candidate</th>\n",
              "      <th>State</th>\n",
              "    </tr>\n",
              "  </thead>\n",
              "  <tbody>\n",
              "    <tr>\n",
              "      <th>0</th>\n",
              "      <td>build</td>\n",
              "      <td>1</td>\n",
              "      <td>1</td>\n",
              "      <td>PE</td>\n",
              "    </tr>\n",
              "    <tr>\n",
              "      <th>1</th>\n",
              "      <td>mismanaging</td>\n",
              "      <td>1</td>\n",
              "      <td>1</td>\n",
              "      <td>PE</td>\n",
              "    </tr>\n",
              "    <tr>\n",
              "      <th>2</th>\n",
              "      <td>rework</td>\n",
              "      <td>1</td>\n",
              "      <td>1</td>\n",
              "      <td>PE</td>\n",
              "    </tr>\n",
              "    <tr>\n",
              "      <th>3</th>\n",
              "      <td>unnecessarily</td>\n",
              "      <td>3</td>\n",
              "      <td>1</td>\n",
              "      <td>PE</td>\n",
              "    </tr>\n",
              "    <tr>\n",
              "      <th>4</th>\n",
              "      <td>extraneous</td>\n",
              "      <td>1</td>\n",
              "      <td>1</td>\n",
              "      <td>PE</td>\n",
              "    </tr>\n",
              "  </tbody>\n",
              "</table>\n",
              "</div>"
            ],
            "text/plain": [
              "           waste  rank  candidate State\n",
              "0          build     1          1   PE \n",
              "1    mismanaging     1          1   PE \n",
              "2         rework     1          1   PE \n",
              "3  unnecessarily     3          1   PE \n",
              "4     extraneous     1          1   PE "
            ]
          },
          "metadata": {
            "tags": []
          },
          "execution_count": 10
        }
      ]
    },
    {
      "cell_type": "code",
      "metadata": {
        "id": "J9TPOxLlzZRb",
        "colab_type": "code",
        "colab": {
          "base_uri": "https://localhost:8080/",
          "height": 232
        },
        "outputId": "9fc72744-abee-44f1-b124-6f3e90fa126c"
      },
      "source": [
        "df = base['rank']\n",
        "df_sum = df.value_counts()\n",
        "df_sum = df_sum.sort_index()\n",
        "\n",
        "x = df_sum.index\n",
        "y = df_sum\n",
        "\n",
        "plt.figure()\n",
        "plt.bar(x, y)\n",
        "\n",
        "# Configurações do texto\n",
        "plt.text(0.4, 70.0, \"Nunca observei\", fontsize=8, horizontalalignment='right')\n",
        "plt.text(0.20, 150, \"Observo raramente\", fontsize=8, horizontalalignment='right')\n",
        "plt.text(0.12, 70.0, \"Observo ocasionalmente\", fontsize=8, horizontalalignment='right')\n",
        "plt.text(0.20, 70.0, \"Observo frequência\", fontsize=8, horizontalalignment='right')\n",
        "\n",
        "plt.title('Distribuição por ')\n",
        "plt.xlabel('Peso')\n",
        "plt.ylabel('Distribuição')\n",
        "plt.xticks(x) # obriga a mostrar todos os números no eixo x\n"
      ],
      "execution_count": 1,
      "outputs": [
        {
          "output_type": "error",
          "ename": "NameError",
          "evalue": "ignored",
          "traceback": [
            "\u001b[0;31m---------------------------------------------------------------------------\u001b[0m",
            "\u001b[0;31mNameError\u001b[0m                                 Traceback (most recent call last)",
            "\u001b[0;32m<ipython-input-1-660ecace049f>\u001b[0m in \u001b[0;36m<module>\u001b[0;34m()\u001b[0m\n\u001b[0;32m----> 1\u001b[0;31m \u001b[0mdf\u001b[0m \u001b[0;34m=\u001b[0m \u001b[0mbase\u001b[0m\u001b[0;34m[\u001b[0m\u001b[0;34m'rank'\u001b[0m\u001b[0;34m]\u001b[0m\u001b[0;34m\u001b[0m\u001b[0;34m\u001b[0m\u001b[0m\n\u001b[0m\u001b[1;32m      2\u001b[0m \u001b[0mdf_sum\u001b[0m \u001b[0;34m=\u001b[0m \u001b[0mdf\u001b[0m\u001b[0;34m.\u001b[0m\u001b[0mvalue_counts\u001b[0m\u001b[0;34m(\u001b[0m\u001b[0;34m)\u001b[0m\u001b[0;34m\u001b[0m\u001b[0;34m\u001b[0m\u001b[0m\n\u001b[1;32m      3\u001b[0m \u001b[0mdf_sum\u001b[0m \u001b[0;34m=\u001b[0m \u001b[0mdf_sum\u001b[0m\u001b[0;34m.\u001b[0m\u001b[0msort_index\u001b[0m\u001b[0;34m(\u001b[0m\u001b[0;34m)\u001b[0m\u001b[0;34m\u001b[0m\u001b[0;34m\u001b[0m\u001b[0m\n\u001b[1;32m      4\u001b[0m \u001b[0;34m\u001b[0m\u001b[0m\n\u001b[1;32m      5\u001b[0m \u001b[0mx\u001b[0m \u001b[0;34m=\u001b[0m \u001b[0mdf_sum\u001b[0m\u001b[0;34m.\u001b[0m\u001b[0mindex\u001b[0m\u001b[0;34m\u001b[0m\u001b[0;34m\u001b[0m\u001b[0m\n",
            "\u001b[0;31mNameError\u001b[0m: name 'base' is not defined"
          ]
        }
      ]
    }
  ]
}